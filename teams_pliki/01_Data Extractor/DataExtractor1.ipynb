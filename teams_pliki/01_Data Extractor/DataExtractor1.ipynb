{
 "cells": [
  {
   "cell_type": "markdown",
   "metadata": {},
   "source": [
    "# Welcome to Jupyter!"
   ]
  },
  {
   "cell_type": "code",
   "execution_count": 1,
   "metadata": {},
   "outputs": [
    {
     "name": "stdout",
     "output_type": "stream",
     "text": [
      "            Otwarcie  Najwyzszy  Najnizszy  Zamkniecie  Wolumen  \\\n",
      "Data                                                              \n",
      "2013-12-11    28.515     29.130     28.504      29.074  2986839   \n",
      "2013-12-12    28.702     28.764     27.995      28.118  2546301   \n",
      "\n",
      "            Otwarcie_all_d_Ailleron SA  Najwyzszy_all_d_Ailleron SA  \\\n",
      "Data                                                                  \n",
      "2013-12-11                      8.9240                       9.1558   \n",
      "2013-12-12                      8.8854                       9.0206   \n",
      "\n",
      "            Najnizszy_all_d_Ailleron SA  Zamkniecie_all_d_Ailleron SA  \\\n",
      "Data                                                                    \n",
      "2013-12-11                       8.7985                        8.8854   \n",
      "2013-12-12                       8.8854                        8.8950   \n",
      "\n",
      "            Wolumen_all_d_Ailleron SA  ...  Wolumen_sfs_d_Sfinks  \\\n",
      "Data                                   ...                         \n",
      "2013-12-11                      10156  ...                104411   \n",
      "2013-12-12                       6392  ...                155743   \n",
      "\n",
      "            Otwarcie_ska_d_Sniezka  Najwyzszy_ska_d_Sniezka  \\\n",
      "Data                                                          \n",
      "2013-12-11                  34.509                   34.509   \n",
      "2013-12-12                  34.156                   34.156   \n",
      "\n",
      "            Najnizszy_ska_d_Sniezka  Zamkniecie_ska_d_Sniezka  \\\n",
      "Data                                                            \n",
      "2013-12-11                   33.804                    34.509   \n",
      "2013-12-12                   33.102                    33.102   \n",
      "\n",
      "            Wolumen_ska_d_Sniezka  Otwarcie_usdpln_d  Najwyzszy_usdpln_d  \\\n",
      "Data                                                                       \n",
      "2013-12-11                    265             3.0340               3.039   \n",
      "2013-12-12                    382             3.0297               3.043   \n",
      "\n",
      "            Najnizszy_usdpln_d  Zamkniecie_usdpln_d  \n",
      "Data                                                 \n",
      "2013-12-11              3.0265                3.029  \n",
      "2013-12-12              3.0269                3.037  \n",
      "\n",
      "[2 rows x 113 columns]\n"
     ]
    }
   ],
   "source": [
    "import os\n",
    "import pandas as pd\n",
    "\n",
    "\n",
    "main_table = pd.read_csv('zmienne/pzu_d.csv', index_col='Data')\n",
    "\n",
    "files = os.listdir('zmienne/')\n",
    "files.remove('pzu_d.csv')\n",
    "#print(files)\n",
    "#print(os.listdir('zmienne/'))\n",
    "\n",
    "for file in files:\n",
    "    dane = pd.read_csv('zmienne/'+file, index_col='Data', engine='python')\n",
    "\n",
    "    main_table = main_table.merge(right=dane,\n",
    "                                  how='inner',\n",
    "                                  left_index=True,\n",
    "                                  right_index=True,\n",
    "                                  copy=False,\n",
    "                                  suffixes=('', '_'+file[:-4]))\n",
    "\n",
    "main_table.to_csv('zmienne/integrated_data.csv')\n",
    "print(main_table.head(2))\n"
   ]
  },
  {
   "cell_type": "code",
   "execution_count": null,
   "metadata": {},
   "outputs": [],
   "source": []
  },
  {
   "cell_type": "code",
   "execution_count": null,
   "metadata": {},
   "outputs": [],
   "source": []
  }
 ],
 "metadata": {
  "kernelspec": {
   "display_name": "Python 3 (ipykernel)",
   "language": "python",
   "name": "python3"
  },
  "language_info": {
   "codemirror_mode": {
    "name": "ipython",
    "version": 3
   },
   "file_extension": ".py",
   "mimetype": "text/x-python",
   "name": "python",
   "nbconvert_exporter": "python",
   "pygments_lexer": "ipython3",
   "version": "3.10.2"
  }
 },
 "nbformat": 4,
 "nbformat_minor": 2
}
