{
 "cells": [
  {
   "cell_type": "markdown",
   "metadata": {},
   "source": [
    "# Welcome to Jupyter!"
   ]
  },
  {
   "cell_type": "code",
   "execution_count": 2,
   "metadata": {},
   "outputs": [
    {
     "name": "stdout",
     "output_type": "stream",
     "text": [
      "            Otwarcie  Najwyzszy  Najnizszy  Zamkniecie  Wolumen  \\\n",
      "Data                                                              \n",
      "2010-09-22    248.40     248.59     246.99      248.13     1861   \n",
      "2010-09-23    249.35     250.48     244.54      246.40     4552   \n",
      "2010-09-24    246.61     249.25     245.34      248.78    12244   \n",
      "2010-09-27    250.19     250.38     248.78      248.78    14712   \n",
      "2010-09-28    247.27     248.12     246.33      246.33     1416   \n",
      "\n",
      "            Otwarcie_gbpeur_d  Najwyzszy_gbpeur_d  Najnizszy_gbpeur_d  \\\n",
      "Data                                                                    \n",
      "2010-09-22             1.1777              1.1816              1.1658   \n",
      "2010-09-23             1.1681              1.1802              1.1674   \n",
      "2010-09-24             1.1780              1.1789              1.1700   \n",
      "2010-09-27             1.1736              1.1777              1.1731   \n",
      "2010-09-28             1.1763              1.1811              1.1622   \n",
      "\n",
      "            Zamkniecie_gbpeur_d  Otwarcie_eurpln_d  ...  Otwarcie_btcusd_d  \\\n",
      "Data                                                ...                      \n",
      "2010-09-22               1.1679             3.9370  ...            0.06265   \n",
      "2010-09-23               1.1778             3.9455  ...            0.06220   \n",
      "2010-09-24               1.1729             3.9664  ...            0.06231   \n",
      "2010-09-27               1.1761             3.9522  ...            0.06200   \n",
      "2010-09-28               1.1632             3.9514  ...            0.06220   \n",
      "\n",
      "            Najwyzszy_btcusd_d  Najnizszy_btcusd_d  Zamkniecie_btcusd_d  \\\n",
      "Data                                                                      \n",
      "2010-09-22             0.06265             0.06147              0.06220   \n",
      "2010-09-23             0.06300             0.06150              0.06231   \n",
      "2010-09-24             0.06240             0.06209              0.06220   \n",
      "2010-09-27             0.06228             0.06190              0.06220   \n",
      "2010-09-28             0.06271             0.06170              0.06190   \n",
      "\n",
      "            Otwarcie_hg  Najwyzszy_hg  Najnizszy_hg  Zamkniecie_hg  \\\n",
      "Data                                                                 \n",
      "2010-09-22       347.68        357.23        347.50         356.58   \n",
      "2010-09-23       356.80        359.48        356.13         356.55   \n",
      "2010-09-24       356.28        363.23        356.18         362.20   \n",
      "2010-09-27       362.93        363.95        358.03         358.35   \n",
      "2010-09-28       358.40        363.50        356.55         363.10   \n",
      "\n",
      "            Wolumen_hg       LOP  \n",
      "Data                              \n",
      "2010-09-22     36026.0  145642.0  \n",
      "2010-09-23     24791.0  145665.0  \n",
      "2010-09-24     26800.0  147213.0  \n",
      "2010-09-27     24181.0  146701.0  \n",
      "2010-09-28     29194.0  147602.0  \n",
      "\n",
      "[5 rows x 79 columns]\n"
     ]
    }
   ],
   "source": [
    "import os\n",
    "import pandas as pd\n",
    "\n",
    "\n",
    "main_table = pd.read_csv('zmienne/glowna_etfw20.csv', index_col='Data')\n",
    "\n",
    "\n",
    "files = os.listdir('zmienne/')\n",
    "#files.remove('glowna_etfw20.csv')\n",
    "#files.remove('proba.ipynb')\n",
    "files.remove('.ipynb_checkpoints')\n",
    "\n",
    "for file in files:\n",
    "    right = pd.read_csv('zmienne/'+file, index_col='Data',engine='python')\n",
    "\n",
    "    main_table = main_table.merge(right=right,\n",
    "                                  how='inner',\n",
    "                                  left_index=True,\n",
    "                                  right_index=True,\n",
    "                                  copy=False,\n",
    "                                  suffixes=('', '_'+file[:-4]))\n",
    "\n",
    "main_table.to_csv('zmienne/integrated_data.csv')\n",
    "print(main_table.head())"
   ]
  },
  {
   "cell_type": "code",
   "execution_count": null,
   "metadata": {},
   "outputs": [],
   "source": []
  },
  {
   "cell_type": "code",
   "execution_count": null,
   "metadata": {},
   "outputs": [],
   "source": []
  }
 ],
 "metadata": {
  "kernelspec": {
   "display_name": "Python 3",
   "language": "python",
   "name": "python3"
  },
  "language_info": {
   "codemirror_mode": {
    "name": "ipython",
    "version": 3
   },
   "file_extension": ".py",
   "mimetype": "text/x-python",
   "name": "python",
   "nbconvert_exporter": "python",
   "pygments_lexer": "ipython3",
   "version": "3.7.4"
  }
 },
 "nbformat": 4,
 "nbformat_minor": 2
}
