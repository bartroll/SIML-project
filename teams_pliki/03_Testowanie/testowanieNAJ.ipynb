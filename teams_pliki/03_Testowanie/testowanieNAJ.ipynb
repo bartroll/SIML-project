{
 "cells": [
  {
   "cell_type": "markdown",
   "metadata": {},
   "source": [
    "### Instalacja potrzebnych bibliotek"
   ]
  },
  {
   "cell_type": "code",
   "execution_count": 1,
   "metadata": {
    "id": "5MHCQeDAUd3X",
    "scrolled": true
   },
   "outputs": [
    {
     "name": "stdout",
     "output_type": "stream",
     "text": [
      "Note: you may need to restart the kernel to use updated packages.\n"
     ]
    },
    {
     "name": "stderr",
     "output_type": "stream",
     "text": [
      "ERROR: Invalid requirement: '#interaktywne'\n"
     ]
    }
   ],
   "source": [
    "pip install ipywidgets #interaktywne widżety HTML dla notebooków Jupyter i jądra IPython"
   ]
  },
  {
   "cell_type": "code",
   "execution_count": 2,
   "metadata": {},
   "outputs": [
    {
     "name": "stdout",
     "output_type": "stream",
     "text": [
      "Requirement already satisfied: keras in c:\\users\\karolina\\appdata\\local\\programs\\python\\python310\\lib\\site-packages (2.8.0)\n",
      "Note: you may need to restart the kernel to use updated packages.\n"
     ]
    }
   ],
   "source": [
    "pip install keras "
   ]
  },
  {
   "cell_type": "code",
   "execution_count": 3,
   "metadata": {},
   "outputs": [
    {
     "name": "stdout",
     "output_type": "stream",
     "text": [
      "Requirement already satisfied: tensorflow in c:\\users\\karolina\\appdata\\local\\programs\\python\\python310\\lib\\site-packages (2.8.0)\n",
      "Requirement already satisfied: protobuf>=3.9.2 in c:\\users\\karolina\\appdata\\local\\programs\\python\\python310\\lib\\site-packages (from tensorflow) (3.19.4)\n",
      "Requirement already satisfied: keras-preprocessing>=1.1.1 in c:\\users\\karolina\\appdata\\local\\programs\\python\\python310\\lib\\site-packages (from tensorflow) (1.1.2)\n",
      "Requirement already satisfied: tensorflow-io-gcs-filesystem>=0.23.1 in c:\\users\\karolina\\appdata\\local\\programs\\python\\python310\\lib\\site-packages (from tensorflow) (0.24.0)\n",
      "Requirement already satisfied: gast>=0.2.1 in c:\\users\\karolina\\appdata\\local\\programs\\python\\python310\\lib\\site-packages (from tensorflow) (0.5.3)\n",
      "Requirement already satisfied: flatbuffers>=1.12 in c:\\users\\karolina\\appdata\\local\\programs\\python\\python310\\lib\\site-packages (from tensorflow) (2.0)\n",
      "Requirement already satisfied: absl-py>=0.4.0 in c:\\users\\karolina\\appdata\\local\\programs\\python\\python310\\lib\\site-packages (from tensorflow) (1.0.0)\n",
      "Requirement already satisfied: grpcio<2.0,>=1.24.3 in c:\\users\\karolina\\appdata\\local\\programs\\python\\python310\\lib\\site-packages (from tensorflow) (1.44.0)\n",
      "Requirement already satisfied: astunparse>=1.6.0 in c:\\users\\karolina\\appdata\\local\\programs\\python\\python310\\lib\\site-packages (from tensorflow) (1.6.3)\n",
      "Requirement already satisfied: tensorboard<2.9,>=2.8 in c:\\users\\karolina\\appdata\\local\\programs\\python\\python310\\lib\\site-packages (from tensorflow) (2.8.0)\n",
      "Requirement already satisfied: wrapt>=1.11.0 in c:\\users\\karolina\\appdata\\local\\programs\\python\\python310\\lib\\site-packages (from tensorflow) (1.14.0)\n",
      "Requirement already satisfied: keras<2.9,>=2.8.0rc0 in c:\\users\\karolina\\appdata\\local\\programs\\python\\python310\\lib\\site-packages (from tensorflow) (2.8.0)\n",
      "Requirement already satisfied: six>=1.12.0 in c:\\users\\karolina\\appdata\\local\\programs\\python\\python310\\lib\\site-packages (from tensorflow) (1.16.0)\n",
      "Requirement already satisfied: termcolor>=1.1.0 in c:\\users\\karolina\\appdata\\local\\programs\\python\\python310\\lib\\site-packages (from tensorflow) (1.1.0)\n",
      "Requirement already satisfied: h5py>=2.9.0 in c:\\users\\karolina\\appdata\\local\\programs\\python\\python310\\lib\\site-packages (from tensorflow) (3.6.0)\n",
      "Requirement already satisfied: opt-einsum>=2.3.2 in c:\\users\\karolina\\appdata\\local\\programs\\python\\python310\\lib\\site-packages (from tensorflow) (3.3.0)\n",
      "Requirement already satisfied: libclang>=9.0.1 in c:\\users\\karolina\\appdata\\local\\programs\\python\\python310\\lib\\site-packages (from tensorflow) (13.0.0)\n",
      "Requirement already satisfied: typing-extensions>=3.6.6 in c:\\users\\karolina\\appdata\\local\\programs\\python\\python310\\lib\\site-packages (from tensorflow) (4.1.1)\n",
      "Requirement already satisfied: numpy>=1.20 in c:\\users\\karolina\\appdata\\local\\programs\\python\\python310\\lib\\site-packages (from tensorflow) (1.22.2)\n",
      "Requirement already satisfied: google-pasta>=0.1.1 in c:\\users\\karolina\\appdata\\local\\programs\\python\\python310\\lib\\site-packages (from tensorflow) (0.2.0)\n",
      "Requirement already satisfied: setuptools in c:\\users\\karolina\\appdata\\local\\programs\\python\\python310\\lib\\site-packages (from tensorflow) (58.1.0)\n",
      "Requirement already satisfied: tf-estimator-nightly==2.8.0.dev2021122109 in c:\\users\\karolina\\appdata\\local\\programs\\python\\python310\\lib\\site-packages (from tensorflow) (2.8.0.dev2021122109)\n",
      "Requirement already satisfied: wheel<1.0,>=0.23.0 in c:\\users\\karolina\\appdata\\local\\programs\\python\\python310\\lib\\site-packages (from astunparse>=1.6.0->tensorflow) (0.37.1)\n",
      "Requirement already satisfied: google-auth<3,>=1.6.3 in c:\\users\\karolina\\appdata\\local\\programs\\python\\python310\\lib\\site-packages (from tensorboard<2.9,>=2.8->tensorflow) (2.6.2)\n",
      "Requirement already satisfied: werkzeug>=0.11.15 in c:\\users\\karolina\\appdata\\local\\programs\\python\\python310\\lib\\site-packages (from tensorboard<2.9,>=2.8->tensorflow) (2.0.3)\n",
      "Requirement already satisfied: requests<3,>=2.21.0 in c:\\users\\karolina\\appdata\\local\\programs\\python\\python310\\lib\\site-packages (from tensorboard<2.9,>=2.8->tensorflow) (2.27.1)\n",
      "Requirement already satisfied: google-auth-oauthlib<0.5,>=0.4.1 in c:\\users\\karolina\\appdata\\local\\programs\\python\\python310\\lib\\site-packages (from tensorboard<2.9,>=2.8->tensorflow) (0.4.6)\n",
      "Requirement already satisfied: tensorboard-data-server<0.7.0,>=0.6.0 in c:\\users\\karolina\\appdata\\local\\programs\\python\\python310\\lib\\site-packages (from tensorboard<2.9,>=2.8->tensorflow) (0.6.1)\n",
      "Requirement already satisfied: tensorboard-plugin-wit>=1.6.0 in c:\\users\\karolina\\appdata\\local\\programs\\python\\python310\\lib\\site-packages (from tensorboard<2.9,>=2.8->tensorflow) (1.8.1)\n",
      "Requirement already satisfied: markdown>=2.6.8 in c:\\users\\karolina\\appdata\\local\\programs\\python\\python310\\lib\\site-packages (from tensorboard<2.9,>=2.8->tensorflow) (3.3.6)\n",
      "Requirement already satisfied: pyasn1-modules>=0.2.1 in c:\\users\\karolina\\appdata\\local\\programs\\python\\python310\\lib\\site-packages (from google-auth<3,>=1.6.3->tensorboard<2.9,>=2.8->tensorflow) (0.2.8)\n",
      "Requirement already satisfied: cachetools<6.0,>=2.0.0 in c:\\users\\karolina\\appdata\\local\\programs\\python\\python310\\lib\\site-packages (from google-auth<3,>=1.6.3->tensorboard<2.9,>=2.8->tensorflow) (5.0.0)\n",
      "Requirement already satisfied: rsa<5,>=3.1.4 in c:\\users\\karolina\\appdata\\local\\programs\\python\\python310\\lib\\site-packages (from google-auth<3,>=1.6.3->tensorboard<2.9,>=2.8->tensorflow) (4.8)\n",
      "Requirement already satisfied: requests-oauthlib>=0.7.0 in c:\\users\\karolina\\appdata\\local\\programs\\python\\python310\\lib\\site-packages (from google-auth-oauthlib<0.5,>=0.4.1->tensorboard<2.9,>=2.8->tensorflow) (1.3.1)\n",
      "Requirement already satisfied: urllib3<1.27,>=1.21.1 in c:\\users\\karolina\\appdata\\local\\programs\\python\\python310\\lib\\site-packages (from requests<3,>=2.21.0->tensorboard<2.9,>=2.8->tensorflow) (1.26.9)\n",
      "Requirement already satisfied: idna<4,>=2.5 in c:\\users\\karolina\\appdata\\local\\programs\\python\\python310\\lib\\site-packages (from requests<3,>=2.21.0->tensorboard<2.9,>=2.8->tensorflow) (3.3)\n",
      "Requirement already satisfied: certifi>=2017.4.17 in c:\\users\\karolina\\appdata\\local\\programs\\python\\python310\\lib\\site-packages (from requests<3,>=2.21.0->tensorboard<2.9,>=2.8->tensorflow) (2021.10.8)\n",
      "Requirement already satisfied: charset-normalizer~=2.0.0 in c:\\users\\karolina\\appdata\\local\\programs\\python\\python310\\lib\\site-packages (from requests<3,>=2.21.0->tensorboard<2.9,>=2.8->tensorflow) (2.0.12)\n",
      "Requirement already satisfied: pyasn1<0.5.0,>=0.4.6 in c:\\users\\karolina\\appdata\\local\\programs\\python\\python310\\lib\\site-packages (from pyasn1-modules>=0.2.1->google-auth<3,>=1.6.3->tensorboard<2.9,>=2.8->tensorflow) (0.4.8)\n",
      "Requirement already satisfied: oauthlib>=3.0.0 in c:\\users\\karolina\\appdata\\local\\programs\\python\\python310\\lib\\site-packages (from requests-oauthlib>=0.7.0->google-auth-oauthlib<0.5,>=0.4.1->tensorboard<2.9,>=2.8->tensorflow) (3.2.0)\n",
      "Note: you may need to restart the kernel to use updated packages.\n"
     ]
    }
   ],
   "source": [
    "pip install tensorflow"
   ]
  },
  {
   "cell_type": "markdown",
   "metadata": {},
   "source": [
    "### Importowanie wymaganych bibliotek"
   ]
  },
  {
   "cell_type": "code",
   "execution_count": 4,
   "metadata": {
    "id": "z4nn0PkVUlJp"
   },
   "outputs": [],
   "source": [
    "import tensorflow as tf \n",
    "from tensorflow import keras\n",
    "from tensorflow.keras.layers import Dense # głęboko połączona warstwa przekazująca neurony dalej (batch, size)\n",
    "from tensorflow.keras.layers import Flatten # \"spłaszcza\" dane wejściowe, przekształca w 1wymiarową tablicę; nie wpływa na wielkość partii\n",
    "from tensorflow.keras.layers import Input\n",
    "from tensorflow.keras.layers import BatchNormalization #warstwa normalizująca dane wejściowe\n",
    "from tensorflow.keras.layers import Dropout # odrzuca część losową informacji, gdy sieć wyciąga za dużo informacji\n",
    "from tensorflow.keras.layers import LSTM # warstwa pamięci długookresowej (sztuczna rekurencyjna architektura sieci neuronowej RNN)\n",
    "from tensorflow.keras.models import Model # grupuje warstwy w obiekt z funkacjami uczenia i wnioskowania\n",
    "from tensorflow.keras.models import Sequential, load_model # do zaczytywania i wczytywania modelu\n",
    "import matplotlib.pyplot as plt\n",
    "import seaborn as sns\n",
    "import pandas as pd\n",
    "import numpy as np\n",
    "from IPython.display import display # tworzymy obiekt audio \n",
    "import ipywidgets as widgets\n",
    "from ipywidgets import interact, interact_manual # automatyczne tworzenie kontrolek interfejsu użytkownika  (user interface UI)\n",
    "from ipywidgets import interactive\n",
    "\n",
    "from sklearn.model_selection import train_test_split # dzielenie tablic lub macierzy na losowe podzbioru trenowania i testowania. \n",
    "from ipywidgets import interact, interact_manual\n",
    "from ipywidgets import interactive\n",
    "from sklearn.metrics import r2_score # R2- współczynnik determinacji; funkcja oceny regresji \n",
    "from sklearn.metrics import mean_absolute_error #MAE oraz MSE (błędy)\n",
    "from sklearn.metrics import mean_squared_error"
   ]
  },
  {
   "cell_type": "markdown",
   "metadata": {},
   "source": [
    "##### Import bibliotek do stworzenia sieci LSTM"
   ]
  },
  {
   "cell_type": "code",
   "execution_count": 5,
   "metadata": {},
   "outputs": [],
   "source": [
    "import math\n",
    "import keras\n",
    "from keras.models import Sequential\n",
    "from keras.layers import Dense\n",
    "from keras.layers import LSTM\n",
    "from keras.layers import Dropout\n",
    "from keras.layers import *\n",
    "from sklearn.preprocessing import MinMaxScaler # przekształcanie cech skalując każdą z cech do określonego zakresu\n",
    "from sklearn.metrics import mean_squared_error\n",
    "from sklearn.metrics import mean_absolute_error\n",
    "from keras.callbacks import EarlyStopping # przerywa trenowanie, gdy monitorowana metryka przestanie się poprawiać; \n",
    "                                          # estymator ten skaluje i tłumaczy każdą cechę indywidualnie tak, że znajduje się ona w zadanym zakresie na zbiorze uczącym (np. między 0 a 1)"
   ]
  },
  {
   "cell_type": "markdown",
   "metadata": {},
   "source": [
    "### Wczytanie bazy"
   ]
  },
  {
   "cell_type": "code",
   "execution_count": 6,
   "metadata": {
    "id": "xNXhr96tUzag"
   },
   "outputs": [],
   "source": [
    "# katalog z plikiem powinien się znajdować w tym samym folderze, co obecnie odpalony plik\n",
    "data = pd.read_csv('./zmienne/pzu_d.csv')"
   ]
  },
  {
   "cell_type": "markdown",
   "metadata": {
    "id": "F28mhURdVfUZ"
   },
   "source": [
    "### Podzial na zbiór treningowy i testowy"
   ]
  },
  {
   "cell_type": "code",
   "execution_count": 7,
   "metadata": {},
   "outputs": [
    {
     "name": "stdout",
     "output_type": "stream",
     "text": [
      "(2982, 6)\n"
     ]
    }
   ],
   "source": [
    "# pierwsza liczba oznacza ilość wierszy, natomiast druga ilość kolumn w zbiorze danych\n",
    "print(data.shape)"
   ]
  },
  {
   "cell_type": "code",
   "execution_count": 8,
   "metadata": {
    "id": "tVIFFmksVtX7"
   },
   "outputs": [
    {
     "name": "stdout",
     "output_type": "stream",
     "text": [
      "(1789, 6)\n"
     ]
    }
   ],
   "source": [
    "# zbiór treningowy\n",
    "ratio = 0.6  # współczynnik proporcji wymiarów (0.6 w stosunku do całego zbioru danych)\n",
    "N = int(len(data)*ratio)   # liczba próbek na klasę\n",
    "train_df, test_df = data[:N], data[N:]   # przypisanie próbek do zmiennych\n",
    "print(train_df.shape)"
   ]
  },
  {
   "cell_type": "code",
   "execution_count": 9,
   "metadata": {
    "id": "b0jVcRkvWVDV"
   },
   "outputs": [
    {
     "name": "stdout",
     "output_type": "stream",
     "text": [
      "(1192, 6)\n"
     ]
    }
   ],
   "source": [
    "# zbiór testowy\n",
    "ratio = 0.4\n",
    "N = int(len(data)*ratio)\n",
    "test_df, val_df = test_df[:N], test_df[N:]\n",
    "print(test_df.shape)"
   ]
  },
  {
   "cell_type": "code",
   "execution_count": 10,
   "metadata": {
    "colab": {
     "base_uri": "https://localhost:8080/",
     "height": 284
    },
    "id": "yxOZAIQgWjaW",
    "outputId": "2035dbd2-676d-4d86-bb4d-a2b2b91cb9c1"
   },
   "outputs": [
    {
     "data": {
      "text/html": [
       "<div>\n",
       "<style scoped>\n",
       "    .dataframe tbody tr th:only-of-type {\n",
       "        vertical-align: middle;\n",
       "    }\n",
       "\n",
       "    .dataframe tbody tr th {\n",
       "        vertical-align: top;\n",
       "    }\n",
       "\n",
       "    .dataframe thead th {\n",
       "        text-align: right;\n",
       "    }\n",
       "</style>\n",
       "<table border=\"1\" class=\"dataframe\">\n",
       "  <thead>\n",
       "    <tr style=\"text-align: right;\">\n",
       "      <th></th>\n",
       "      <th>Otwarcie</th>\n",
       "      <th>Najwyzszy</th>\n",
       "      <th>Najnizszy</th>\n",
       "      <th>Zamkniecie</th>\n",
       "      <th>Wolumen</th>\n",
       "    </tr>\n",
       "  </thead>\n",
       "  <tbody>\n",
       "    <tr>\n",
       "      <th>count</th>\n",
       "      <td>1789.000000</td>\n",
       "      <td>1789.00000</td>\n",
       "      <td>1789.000000</td>\n",
       "      <td>1789.000000</td>\n",
       "      <td>1.789000e+03</td>\n",
       "    </tr>\n",
       "    <tr>\n",
       "      <th>mean</th>\n",
       "      <td>23.489153</td>\n",
       "      <td>23.72325</td>\n",
       "      <td>23.247225</td>\n",
       "      <td>23.488975</td>\n",
       "      <td>3.744297e+06</td>\n",
       "    </tr>\n",
       "    <tr>\n",
       "      <th>std</th>\n",
       "      <td>5.451665</td>\n",
       "      <td>5.49418</td>\n",
       "      <td>5.409725</td>\n",
       "      <td>5.446106</td>\n",
       "      <td>4.739787e+06</td>\n",
       "    </tr>\n",
       "    <tr>\n",
       "      <th>min</th>\n",
       "      <td>15.367000</td>\n",
       "      <td>15.48600</td>\n",
       "      <td>14.752000</td>\n",
       "      <td>15.220000</td>\n",
       "      <td>3.965050e+05</td>\n",
       "    </tr>\n",
       "    <tr>\n",
       "      <th>25%</th>\n",
       "      <td>18.082000</td>\n",
       "      <td>18.25100</td>\n",
       "      <td>17.894000</td>\n",
       "      <td>18.073000</td>\n",
       "      <td>1.990448e+06</td>\n",
       "    </tr>\n",
       "    <tr>\n",
       "      <th>50%</th>\n",
       "      <td>23.213000</td>\n",
       "      <td>23.53000</td>\n",
       "      <td>22.906000</td>\n",
       "      <td>23.200000</td>\n",
       "      <td>2.889356e+06</td>\n",
       "    </tr>\n",
       "    <tr>\n",
       "      <th>75%</th>\n",
       "      <td>27.821000</td>\n",
       "      <td>28.00900</td>\n",
       "      <td>27.499000</td>\n",
       "      <td>27.797000</td>\n",
       "      <td>4.387589e+06</td>\n",
       "    </tr>\n",
       "    <tr>\n",
       "      <th>max</th>\n",
       "      <td>36.471000</td>\n",
       "      <td>36.63400</td>\n",
       "      <td>36.075000</td>\n",
       "      <td>36.340000</td>\n",
       "      <td>1.543167e+08</td>\n",
       "    </tr>\n",
       "  </tbody>\n",
       "</table>\n",
       "</div>"
      ],
      "text/plain": [
       "          Otwarcie   Najwyzszy    Najnizszy   Zamkniecie       Wolumen\n",
       "count  1789.000000  1789.00000  1789.000000  1789.000000  1.789000e+03\n",
       "mean     23.489153    23.72325    23.247225    23.488975  3.744297e+06\n",
       "std       5.451665     5.49418     5.409725     5.446106  4.739787e+06\n",
       "min      15.367000    15.48600    14.752000    15.220000  3.965050e+05\n",
       "25%      18.082000    18.25100    17.894000    18.073000  1.990448e+06\n",
       "50%      23.213000    23.53000    22.906000    23.200000  2.889356e+06\n",
       "75%      27.821000    28.00900    27.499000    27.797000  4.387589e+06\n",
       "max      36.471000    36.63400    36.075000    36.340000  1.543167e+08"
      ]
     },
     "execution_count": 10,
     "metadata": {},
     "output_type": "execute_result"
    }
   ],
   "source": [
    "# funkcja oblicza podsumowanie statystyk odnoszących się do kolumny DataFrame. \n",
    "# ta funkcja podaje wartości średnie, standardowe i odstęp międzykwartylowy.\n",
    "train_df.describe()"
   ]
  },
  {
   "cell_type": "code",
   "execution_count": 11,
   "metadata": {
    "id": "HrtXH7VgWqsD"
   },
   "outputs": [],
   "source": [
    "# zapewnia obliczania w oknie kroczącym. \n",
    "# windows = rozmiar ruchomego okna, jest to liczba obserwacji użytych do obliczenia statystyki. \n",
    "# każde okno będzie miało stały rozmiar.\n",
    "rolling = data.rolling(window=7)"
   ]
  },
  {
   "cell_type": "code",
   "execution_count": 12,
   "metadata": {
    "id": "IaOjWnf3WuAB"
   },
   "outputs": [],
   "source": [
    "# definiujemy nasz y, który chcemy przewidzieć; trenujemy model tylko na \"Zamkniecie\"\n",
    "data_roll = pd.DataFrame()\n",
    "data_roll['Zamkniecie']=train_df['Zamkniecie']"
   ]
  },
  {
   "cell_type": "code",
   "execution_count": 13,
   "metadata": {},
   "outputs": [
    {
     "data": {
      "application/vnd.jupyter.widget-view+json": {
       "model_id": "cdba8f14983342b591b1c4f909e5e745",
       "version_major": 2,
       "version_minor": 0
      },
      "text/plain": [
       "interactive(children=(IntSlider(value=50, description='lw', min=1), Button(description='Run Interact', style=B…"
      ]
     },
     "metadata": {},
     "output_type": "display_data"
    }
   ],
   "source": [
    "@widgets.interact_manual(lw=(1, 100))  #wstawia suwak do ręcznego wywoływania funkcji. Nie ma potrzeby uruchamiać za każdym razem kod, gdy zmieniamy wartość. \n",
    "def plot(lw):\n",
    "  rolling = data.rolling(window=lw, center=True)\n",
    "  data_roll = pd.DataFrame()\n",
    " \n",
    "  data_roll['Zamkniecie']=data['Zamkniecie']\n",
    "  data_roll['7 days rolling_mean(srednia kroczaca)']=data_roll['Zamkniecie'].rolling(lw, min_periods=1).mean()\n",
    "  ax = data_roll.plot(style=['-', '--'], rot=90, figsize=(20, 10)) #odpowiada za rozmiar wykresu, oraz styl linii\n",
    "  ax.lines[0].set_alpha(0.3)   #zmienia przeźroczystość linii wskazującej \"Zamknięcie\"."
   ]
  },
  {
   "cell_type": "markdown",
   "metadata": {
    "id": "8eSGFce8W3jD"
   },
   "source": [
    "### Przygotowanie danych do uczenia na sieci LSTM (zmiana wymiarow macierzy, by model zaczal obrabiac dane)"
   ]
  },
  {
   "cell_type": "code",
   "execution_count": 47,
   "metadata": {
    "id": "e4v22vMBXlIn"
   },
   "outputs": [],
   "source": [
    "zmienna_przewidywana = \"Zamkniecie\"\n",
    "\n",
    "def prepare_dataset_to_lstm(zmienna_przewidywana, train_df, ratio):\n",
    "  dataset = train_df[zmienna_przewidywana].values #numpy.ndarray\n",
    "  dataset = dataset.astype('float32') #zamiana typu na float\n",
    "  dataset = np.reshape(dataset, (-1, 1)) #przekształcamy tablicę; wynikowa tablica ma tylko 1 kolumnę\n",
    "  scaler = MinMaxScaler(feature_range=(0, 1)) #skalowanie zmiennych do postaci (0,1)\n",
    "  dataset = scaler.fit_transform(dataset) # wszystkie inne wartości są liniowo skalowane między tymi wartościami\n",
    "\n",
    "#dzielimy uporządkowany zestaw danych do trenowania i testowania. Oblicza index punktu podziału i rozdziela dane na zestawy szkoleniowe z test. obserwacji, których można użyć do trenowania modelu, pozostawiając pozostałe do przetestowania\n",
    "  train_size = int(len(dataset) * ratio)\n",
    "  test_size = len(dataset) - train_size\n",
    "  train, test = dataset[0:train_size,:], dataset[train_size:len(dataset),:]\n",
    "\n",
    "  return train, test, scaler\n",
    "\n",
    "#uruchamiany tą funkcję z wyżej, przygotowanie modelu pod LSTM\n",
    "train, test, scaler = prepare_dataset_to_lstm(zmienna_przewidywana, train_df, ratio=0.8) #scaler - skaluje dane do zakresu 0, 1 (tak zwana normalizacja)"
   ]
  },
  {
   "cell_type": "code",
   "execution_count": 15,
   "metadata": {
    "id": "BPKKHxCWXpe1"
   },
   "outputs": [],
   "source": [
    "# look_back- liczba poprzednich kroków czasowych, które mają być użyte jako zmienne wejściowe do przewidywania następnego okresu czasu, w tym przypadku domyślnie 1.\n",
    "# scaler- skaluje dane do zakresu 0,1 (normalizacja)\n",
    "# tworzenie back(ów); konwertujemy tablicę wartości na macierz zestawu danych\n",
    "def create_dataset_lstm(dataset, look_back=1):   #look_back - wielkość kroku z którą testujemy dataset\n",
    "    X, Y = [], []\n",
    "    for i in range(len(dataset)-look_back-1): # żeby nie wyszło poza zasięg\n",
    "        a = dataset[i:(i+look_back), 0]\n",
    "        X.append(a)\n",
    "        Y.append(dataset[i + look_back, 0])\n",
    "    return np.array(X), np.array(Y)\n",
    "\n",
    "#używamy funkcji by przygotować zestaw i przetestować zestawy danych do modelowania.\n",
    "look_back = 20 #liczba probek ktora pobieramy, minimalnie jedna próbka, maksymalnie tyle, ile ma ciąg elementów\n",
    "X_train, Y_train = create_dataset_lstm(train, look_back)\n",
    "X_test, Y_test = create_dataset_lstm(test, look_back)\n",
    "\n",
    "#Zmienia kształt wejścia na próbki, kroki czasowe, cechy,\n",
    "X_train = np.reshape(X_train, (X_train.shape[0], 1, X_train.shape[1]))\n",
    "X_test = np.reshape(X_test, (X_test.shape[0], 1, X_test.shape[1]))"
   ]
  },
  {
   "cell_type": "markdown",
   "metadata": {
    "id": "lu0pQXiDZYM7"
   },
   "source": [
    "## Uczenie modelu"
   ]
  },
  {
   "cell_type": "code",
   "execution_count": 48,
   "metadata": {
    "id": "24NO3QG3Y7Pp"
   },
   "outputs": [],
   "source": [
    "#Tworzymy i dopasowujemy model LSTM (zmiana batch_size). W poniższym modelu jest jedno wejście w warstwie wejściowej\n",
    "# i 10 neuronów w warstwie ukrytej. Warstwa wyjściowa przewiduje wartości\n",
    "def lstm_model(X_train, Y_train, X_test, Y_test, batch_size=20):\n",
    "  model = Sequential()  #liniowy stos warstw\n",
    "  model.add(LSTM(20, input_shape=(X_train.shape[1], X_train.shape[2])))\n",
    "  model.add(Dropout(0.2)) \n",
    "  model.add(Dense(8))\n",
    "# definiujemy w czym będziemy wyrażać naszą jakość uczenia\n",
    "  model.compile(loss='mean_squared_error', optimizer='adam') #definiujemy w czym będziemy wyrażać naszą jakośc uczenia\n",
    "\n",
    "# epochs - Funkcja aktywacji powtarzana jest 5 razy\n",
    "  history = model.fit(X_train, Y_train, epochs=10, batch_size=10, validation_data=(X_test, Y_test), \n",
    "                      # przerwij trenowanie, gdy monitorowana metryka przestanie się poprawiać\n",
    "                      callbacks=[EarlyStopping(monitor='val_loss', patience=10)], verbose=1, shuffle=False)\n",
    "  return model\n",
    "\n"
   ]
  },
  {
   "cell_type": "markdown",
   "metadata": {},
   "source": [
    "## Ewaluacja modelu"
   ]
  },
  {
   "cell_type": "code",
   "execution_count": 49,
   "metadata": {
    "id": "7OKDU7BRZhqQ"
   },
   "outputs": [],
   "source": [
    "#ewaluacja modelu\n",
    "def evaluation_model(model,X_train, X_test, Y_train, testing=False):\n",
    "  dataset = train_df[zmienna_przewidywana].values #numpy.ndarray\n",
    "  dataset = dataset.astype('float32') #zamian typu na float\n",
    "  dataset = np.reshape(dataset, (-1, 1))  # zmienia shape na odwrotny (odwrócenie macierzy) nie w sposób ciągły (1 pod 2)\n",
    "  scaler = MinMaxScaler(feature_range=(0, 1))\n",
    "  dataset = scaler.fit_transform(dataset)\n",
    "  \n",
    "#wykonaj prognozy\n",
    "  train_predict = model.predict(X_train)\n",
    "  test_predict = model.predict(X_test)\n",
    "\n",
    "#odwróć prognozy, przy obliczaniu błędu przekonwertujemy dane na tą samą jednostkę.  \n",
    "  train_predict = scaler.inverse_transform(train_predict)\n",
    "  Y_train = scaler.inverse_transform([Y_train])\n",
    "\n",
    "#oblicz średni kwadrat błędu\n",
    "  _mean_absolute_error = mean_absolute_error(Y_train[0], train_predict[:,0])   #jak mamy listę 13 elementów, to wstawiając [3,:] pobierze od 3 do 13 elementu\n",
    "  _mean_squared_error = np.sqrt(mean_squared_error(Y_train[0], train_predict[:,0]))\n",
    "  print('Train Mean Absolute Error:', _mean_absolute_error)\n",
    "  print('Train Root Mean Squared Error:',_mean_squared_error)\n",
    "  if testing:\n",
    "    return Y_train, train_predict, _mean_absolute_error, _mean_squared_error\n",
    "  return Y_train, train_predict\n",
    "\n"
   ]
  },
  {
   "cell_type": "code",
   "execution_count": 50,
   "metadata": {
    "colab": {
     "base_uri": "https://localhost:8080/"
    },
    "id": "xiujQG_iduIb",
    "outputId": "e8ecb3e7-9e2c-42e0-d29d-2736de0eea21"
   },
   "outputs": [
    {
     "name": "stdout",
     "output_type": "stream",
     "text": [
      "(1, 2, (10, 20))\n",
      "1 2 (10, 20)\n"
     ]
    }
   ],
   "source": [
    "def a():\n",
    "    return 1, 2, (10, 20)\n",
    "\n",
    "x,y, error = a()\n",
    "print(a())\n",
    "print(x,y, error)\n",
    "\n",
    "# 1 to nasz x- Y_train, 2 nasz y- train_predict  a (10-_mean_absolute_error, 20- _mean_squared_error) nasze dołożone errory (patrz analogicznie linijkę wyżej)"
   ]
  },
  {
   "cell_type": "code",
   "execution_count": 51,
   "metadata": {
    "colab": {
     "base_uri": "https://localhost:8080/"
    },
    "id": "dgXynbpvZ_ZT",
    "outputId": "ec57cf4d-18cc-4236-f361-49e61e3a58e3"
   },
   "outputs": [
    {
     "name": "stdout",
     "output_type": "stream",
     "text": [
      "Epoch 1/10\n",
      "141/141 [==============================] - 3s 7ms/step - loss: 0.0154 - val_loss: 0.0158\n",
      "Epoch 2/10\n",
      "141/141 [==============================] - 0s 3ms/step - loss: 0.0106 - val_loss: 0.0222\n",
      "Epoch 3/10\n",
      "141/141 [==============================] - 0s 3ms/step - loss: 0.0098 - val_loss: 0.0294\n",
      "Epoch 4/10\n",
      "141/141 [==============================] - 0s 3ms/step - loss: 0.0098 - val_loss: 0.0345\n",
      "Epoch 5/10\n",
      "141/141 [==============================] - 0s 3ms/step - loss: 0.0104 - val_loss: 0.0357\n",
      "Epoch 6/10\n",
      "141/141 [==============================] - 0s 3ms/step - loss: 0.0118 - val_loss: 0.0368\n",
      "Epoch 7/10\n",
      "141/141 [==============================] - 0s 3ms/step - loss: 0.0122 - val_loss: 0.0370\n",
      "Epoch 8/10\n",
      "141/141 [==============================] - 0s 3ms/step - loss: 0.0124 - val_loss: 0.0359\n",
      "Epoch 9/10\n",
      "141/141 [==============================] - 0s 3ms/step - loss: 0.0128 - val_loss: 0.0338\n",
      "Epoch 10/10\n",
      "141/141 [==============================] - 0s 3ms/step - loss: 0.0132 - val_loss: 0.0308\n"
     ]
    }
   ],
   "source": [
    "#Model się uczy!\n",
    "history = lstm_model(X_train, Y_train, X_test, Y_test, batch_size=10)\n",
    "\n",
    "# loss to funkcja straty na zbiorze treningowym\n",
    "# val_loss to funkcja straty na zbiorze walidacyjnym (im mniejsza tym lepiej)\n",
    "\n",
    "# widzimy że z każdą kolejną epoką te dwa błędy są coraz mniejsze- zatem model dobrze się uczy. \n",
    "# im mniejsze błędy (bliższe 0- tym lepiej)"
   ]
  },
  {
   "cell_type": "code",
   "execution_count": 52,
   "metadata": {
    "colab": {
     "base_uri": "https://localhost:8080/"
    },
    "id": "bBRLWe2tal_k",
    "outputId": "070f9856-1d3e-4d33-d48d-04dcd7883e31"
   },
   "outputs": [
    {
     "name": "stdout",
     "output_type": "stream",
     "text": [
      "Saved model to disk\n"
     ]
    }
   ],
   "source": [
    "# zapisujemy model sieci neuronowej w formacie JSON\n",
    "model_json = history.to_json()  #zapisanie modelu history do JSON\n",
    "with open(\"model.json\", \"w\") as json_file:  #utwórz plik model.json w trybie edycji i zatrzymaj w zmiennej json_file\n",
    "    json_file.write(model_json)\n",
    "# zapisanie wagi z modelu za pomocą funkcji save.weights. \n",
    "history.save_weights(\"model.h5\")  #wagi są zapisywane w pliku model.h5 w katalogu lokalnym.\n",
    "print(\"Saved model to disk\")  #komentarz udanej operacji"
   ]
  },
  {
   "cell_type": "code",
   "execution_count": 53,
   "metadata": {
    "colab": {
     "base_uri": "https://localhost:8080/"
    },
    "id": "WfuK6w9caHN8",
    "outputId": "bc323c82-f312-43d0-904a-0d75540a2fe7"
   },
   "outputs": [
    {
     "name": "stdout",
     "output_type": "stream",
     "text": [
      "Train Mean Absolute Error: 2.3155631967240997\n",
      "Train Root Mean Squared Error: 2.7125771734785453\n"
     ]
    },
    {
     "data": {
      "text/plain": [
       "(array([[16.62200031, 16.62599967, 16.48100029, ..., 23.01299928,\n",
       "         23.14300072, 23.13499947]]),\n",
       " array([[18.270817, 18.259426, 18.162844, ..., 18.226519, 18.282005,\n",
       "         18.359797],\n",
       "        [18.25647 , 18.26043 , 18.208424, ..., 18.284225, 18.2946  ,\n",
       "         18.340765],\n",
       "        [18.334127, 18.202492, 18.236448, ..., 18.297255, 18.2047  ,\n",
       "         18.35308 ],\n",
       "        ...,\n",
       "        [25.788725, 25.572763, 25.767809, ..., 25.716528, 25.582214,\n",
       "         25.877949],\n",
       "        [25.784483, 25.583614, 25.781918, ..., 25.730885, 25.567787,\n",
       "         25.78916 ],\n",
       "        [25.808252, 25.620277, 25.83064 , ..., 25.834227, 25.634602,\n",
       "         25.811949]], dtype=float32))"
      ]
     },
     "execution_count": 53,
     "metadata": {},
     "output_type": "execute_result"
    }
   ],
   "source": [
    "\n",
    "evaluation_model(history,X_train, X_test, Y_train)"
   ]
  },
  {
   "cell_type": "code",
   "execution_count": 54,
   "metadata": {
    "colab": {
     "base_uri": "https://localhost:8080/"
    },
    "id": "JFznAylEdG8X",
    "outputId": "3bad9dad-673c-4318-84e6-7780371beeec"
   },
   "outputs": [
    {
     "name": "stdout",
     "output_type": "stream",
     "text": [
      "Train Mean Absolute Error: 2.3155631967240997\n",
      "Train Root Mean Squared Error: 2.7125771734785453\n"
     ]
    }
   ],
   "source": [
    "Y_train, train_predict = evaluation_model(history,X_train, X_test, Y_train)"
   ]
  },
  {
   "cell_type": "code",
   "execution_count": 55,
   "metadata": {
    "id": "VQ-5nMYZcgXv"
   },
   "outputs": [],
   "source": [
    "def visualization(Y_train, train_predict):\n",
    "  N = len(Y_train[0]) \n",
    "  aa=[x for x in range(N)]  # N oznacza liczbę cech w punkcie danych\n",
    "  plt.figure(figsize=(8,4))\n",
    "  plt.plot(aa, Y_train[0], marker='.', label=\"actual\") # gdy . zmienimy na * to będziemy mieli zamiast . -> *\n",
    "  plt.plot(aa, train_predict[:,0], 'r', label=\"prediction\")\n",
    "  # plt.tick_params(left=False, labelleft=True) #remove ticks\n",
    "  plt.tight_layout()  # dostosuj dopełnienie między polamy pomocniczymi i wokół nich\n",
    "  sns.despine(top=True) # usuwamy grzbiet\n",
    "  plt.subplots_adjust(left=0.07)  # położenie lewej krawędzi wykresu\n",
    "  plt.title(\" prediction\")\n",
    "  plt.xlabel('Time step', size=15)  # rozmiar czcionki dla time step 15\n",
    "  plt.legend(fontsize=15)  # rozmiar czcionki elementów legendy\n",
    "  plt.show();  # uruchamiamy pętle zdarzeń, wyszukujemy wszystkie aktywne obiekty figur i otwieramy jedno lub więcej inteaktywnych okien.\n",
    "\n"
   ]
  },
  {
   "cell_type": "code",
   "execution_count": 56,
   "metadata": {
    "colab": {
     "base_uri": "https://localhost:8080/",
     "height": 331
    },
    "id": "2QEN7oeKc4W-",
    "outputId": "a989d390-23a5-457e-b2fb-2b9fcbf02502"
   },
   "outputs": [
    {
     "data": {
      "image/png": "[encoded data removed]",
      "text/plain": [
       "<Figure size 576x288 with 1 Axes>"
      ]
     },
     "metadata": {
      "needs_background": "light"
     },
     "output_type": "display_data"
    }
   ],
   "source": [
    "# Na wykresie dane nie są znormalizowane\n",
    "visualization(Y_train, train_predict) # niebieska- z csv wiersze i do nich wartości z pliku excel (na podstawie ratio nie cale 2849 tylko 0.6 z tego); czerwone- dla poszczegolnych wierszy błędy; model dobrze się uczy"
   ]
  },
  {
   "cell_type": "markdown",
   "metadata": {
    "id": "186VBDTrd3yn"
   },
   "source": [
    "## Zmieniamy wielkosc batch, by zobaczyc jaki wplyw ma ta zmienna na wyniki"
   ]
  },
  {
   "cell_type": "code",
   "execution_count": 57,
   "metadata": {
    "id": "0RAuJONqejpj"
   },
   "outputs": [
    {
     "name": "stdout",
     "output_type": "stream",
     "text": [
      "[[0.33986747 0.3432765  0.3751421 ]\n",
      " [0.3432765  0.3751421  0.37410045]\n",
      " [0.3751421  0.37410045 0.36259472]\n",
      " ...\n",
      " [0.95653415 0.95620275 0.919413  ]\n",
      " [0.95620275 0.919413   0.9337121 ]\n",
      " [0.919413   0.9337121  0.9032198 ]]\n"
     ]
    }
   ],
   "source": [
    "# <odswiezam dane>, gdyz wymiary danych testowych i treningowych przestaja sie zgadac\n",
    "train, test, scaler = prepare_dataset_to_lstm(zmienna_przewidywana, train_df, ratio=0.8)\n",
    "\n",
    "def create_dataset_lstm(dataset, look_back=1):\n",
    "    X, Y = [], []\n",
    "    for i in range(len(dataset)-look_back):\n",
    "        a = dataset[i:(i+look_back), 0]\n",
    "        X.append(a)\n",
    "        Y.append(dataset[i + look_back, 0])\n",
    "    return np.array(X), np.array(Y)\n",
    "    \n",
    "look_back = 3 #liczba probek ktora pobieramy, minimalnie jedna probka, maksymalnie tyle, ile ma ciag elementow\n",
    "X_train, Y_train = create_dataset_lstm(train, look_back)\n",
    "X_test, Y_test = create_dataset_lstm(test, look_back)\n",
    "print(X_test)\n",
    "\n",
    "# reshape input to be [samples, time steps, features]\n",
    "X_train = np.reshape(X_train, (X_train.shape[0], 1, X_train.shape[1]))\n",
    "X_test = np.reshape(X_test, (X_test.shape[0], 1, X_test.shape[1]))"
   ]
  },
  {
   "cell_type": "code",
   "execution_count": 59,
   "metadata": {
    "colab": {
     "base_uri": "https://localhost:8080/"
    },
    "id": "RB4mp_3neAns",
    "outputId": "ab46fbc9-e979-4b84-cb4e-8b84231039a7"
   },
   "outputs": [
    {
     "name": "stdout",
     "output_type": "stream",
     "text": [
      "-------------------------------30--------------------------\n",
      "Epoch 1/10\n",
      "143/143 [==============================] - 3s 7ms/step - loss: 0.0352 - val_loss: 0.0140\n",
      "Epoch 2/10\n",
      "143/143 [==============================] - 0s 3ms/step - loss: 0.0194 - val_loss: 0.0058\n",
      "Epoch 3/10\n",
      "143/143 [==============================] - 0s 3ms/step - loss: 0.0116 - val_loss: 0.0028\n",
      "Epoch 4/10\n",
      "143/143 [==============================] - 0s 3ms/step - loss: 0.0078 - val_loss: 0.0016\n",
      "Epoch 5/10\n",
      "143/143 [==============================] - 0s 3ms/step - loss: 0.0057 - val_loss: 8.5415e-04\n",
      "Epoch 6/10\n",
      "143/143 [==============================] - 0s 3ms/step - loss: 0.0049 - val_loss: 7.7736e-04\n",
      "Epoch 7/10\n",
      "143/143 [==============================] - 0s 3ms/step - loss: 0.0040 - val_loss: 7.6608e-04\n",
      "Epoch 8/10\n",
      "143/143 [==============================] - 0s 3ms/step - loss: 0.0039 - val_loss: 7.8985e-04\n",
      "Epoch 9/10\n",
      "143/143 [==============================] - 1s 4ms/step - loss: 0.0033 - val_loss: 8.7293e-04\n",
      "Epoch 10/10\n",
      "143/143 [==============================] - 0s 3ms/step - loss: 0.0031 - val_loss: 0.0010\n",
      "Train Mean Absolute Error: 0.44908764334554174\n",
      "Train Root Mean Squared Error: 0.5508739863750565\n",
      "-------------------------------31--------------------------\n",
      "Epoch 1/10\n",
      "143/143 [==============================] - 4s 7ms/step - loss: 0.0229 - val_loss: 0.0115\n",
      "Epoch 2/10\n",
      "143/143 [==============================] - 0s 3ms/step - loss: 0.0148 - val_loss: 0.0055\n",
      "Epoch 3/10\n",
      "143/143 [==============================] - 1s 3ms/step - loss: 0.0096 - val_loss: 0.0030\n",
      "Epoch 4/10\n",
      "143/143 [==============================] - 0s 3ms/step - loss: 0.0065 - val_loss: 0.0019\n",
      "Epoch 5/10\n",
      "143/143 [==============================] - 0s 3ms/step - loss: 0.0050 - val_loss: 0.0014\n",
      "Epoch 6/10\n",
      "143/143 [==============================] - 0s 3ms/step - loss: 0.0047 - val_loss: 0.0011\n",
      "Epoch 7/10\n",
      "143/143 [==============================] - 0s 3ms/step - loss: 0.0040 - val_loss: 8.6652e-04\n",
      "Epoch 8/10\n",
      "143/143 [==============================] - 0s 3ms/step - loss: 0.0036 - val_loss: 8.5749e-04\n",
      "Epoch 9/10\n",
      "143/143 [==============================] - 0s 3ms/step - loss: 0.0031 - val_loss: 9.7395e-04\n",
      "Epoch 10/10\n",
      "143/143 [==============================] - 0s 3ms/step - loss: 0.0030 - val_loss: 6.9969e-04\n",
      "Train Mean Absolute Error: 0.47127798271670496\n",
      "Train Root Mean Squared Error: 0.5789791591576672\n",
      "-------------------------------32--------------------------\n",
      "Epoch 1/10\n",
      "143/143 [==============================] - 3s 7ms/step - loss: 0.0217 - val_loss: 0.0106\n",
      "Epoch 2/10\n",
      "143/143 [==============================] - 0s 3ms/step - loss: 0.0158 - val_loss: 0.0056\n",
      "Epoch 3/10\n",
      "143/143 [==============================] - 0s 3ms/step - loss: 0.0100 - val_loss: 0.0034\n",
      "Epoch 4/10\n",
      "143/143 [==============================] - 0s 3ms/step - loss: 0.0076 - val_loss: 0.0020\n",
      "Epoch 5/10\n",
      "143/143 [==============================] - 0s 3ms/step - loss: 0.0058 - val_loss: 0.0014\n",
      "Epoch 6/10\n",
      "143/143 [==============================] - 0s 3ms/step - loss: 0.0047 - val_loss: 0.0014\n",
      "Epoch 7/10\n",
      "143/143 [==============================] - 0s 3ms/step - loss: 0.0045 - val_loss: 0.0010\n",
      "Epoch 8/10\n",
      "143/143 [==============================] - 0s 3ms/step - loss: 0.0037 - val_loss: 8.6512e-04\n",
      "Epoch 9/10\n",
      "143/143 [==============================] - 0s 3ms/step - loss: 0.0035 - val_loss: 0.0010\n",
      "Epoch 10/10\n",
      "143/143 [==============================] - 0s 3ms/step - loss: 0.0031 - val_loss: 9.7937e-04\n",
      "Train Mean Absolute Error: 0.5485151319185436\n",
      "Train Root Mean Squared Error: 0.6556969984784794\n",
      "-------------------------------33--------------------------\n",
      "Epoch 1/10\n",
      "143/143 [==============================] - 3s 7ms/step - loss: 0.0218 - val_loss: 0.0103\n",
      "Epoch 2/10\n",
      "143/143 [==============================] - 0s 3ms/step - loss: 0.0144 - val_loss: 0.0053\n",
      "Epoch 3/10\n",
      "143/143 [==============================] - 0s 3ms/step - loss: 0.0099 - val_loss: 0.0031\n",
      "Epoch 4/10\n",
      "143/143 [==============================] - 0s 3ms/step - loss: 0.0075 - val_loss: 0.0018\n",
      "Epoch 5/10\n",
      "143/143 [==============================] - 0s 3ms/step - loss: 0.0051 - val_loss: 0.0013\n",
      "Epoch 6/10\n",
      "143/143 [==============================] - 0s 3ms/step - loss: 0.0044 - val_loss: 0.0014\n",
      "Epoch 7/10\n",
      "143/143 [==============================] - 0s 3ms/step - loss: 0.0040 - val_loss: 8.0526e-04\n",
      "Epoch 8/10\n",
      "143/143 [==============================] - 0s 3ms/step - loss: 0.0039 - val_loss: 0.0012\n",
      "Epoch 9/10\n",
      "143/143 [==============================] - 0s 3ms/step - loss: 0.0031 - val_loss: 7.8211e-04\n",
      "Epoch 10/10\n",
      "143/143 [==============================] - 0s 3ms/step - loss: 0.0030 - val_loss: 0.0011\n",
      "Train Mean Absolute Error: 0.563784366051788\n",
      "Train Root Mean Squared Error: 0.6697693741329788\n",
      "-------------------------------34--------------------------\n",
      "Epoch 1/10\n",
      "143/143 [==============================] - 3s 7ms/step - loss: 0.0330 - val_loss: 0.0141\n",
      "Epoch 2/10\n",
      "143/143 [==============================] - 0s 3ms/step - loss: 0.0182 - val_loss: 0.0068\n",
      "Epoch 3/10\n",
      "143/143 [==============================] - 0s 3ms/step - loss: 0.0110 - val_loss: 0.0032\n",
      "Epoch 4/10\n",
      "143/143 [==============================] - 0s 3ms/step - loss: 0.0073 - val_loss: 0.0018\n",
      "Epoch 5/10\n",
      "143/143 [==============================] - 0s 3ms/step - loss: 0.0054 - val_loss: 0.0011\n",
      "Epoch 6/10\n",
      "143/143 [==============================] - 0s 3ms/step - loss: 0.0042 - val_loss: 0.0013\n",
      "Epoch 7/10\n",
      "143/143 [==============================] - 0s 3ms/step - loss: 0.0039 - val_loss: 9.8380e-04\n",
      "Epoch 8/10\n",
      "143/143 [==============================] - 0s 3ms/step - loss: 0.0034 - val_loss: 9.4560e-04\n",
      "Epoch 9/10\n",
      "143/143 [==============================] - 0s 3ms/step - loss: 0.0033 - val_loss: 0.0011\n",
      "Epoch 10/10\n",
      "143/143 [==============================] - 0s 3ms/step - loss: 0.0029 - val_loss: 0.0012\n",
      "Train Mean Absolute Error: 0.5035234221146697\n",
      "Train Root Mean Squared Error: 0.6086126938696281\n",
      "-------------------------------35--------------------------\n",
      "Epoch 1/10\n",
      "143/143 [==============================] - 3s 7ms/step - loss: 0.0293 - val_loss: 0.0119\n",
      "Epoch 2/10\n",
      "143/143 [==============================] - 0s 3ms/step - loss: 0.0173 - val_loss: 0.0062\n",
      "Epoch 3/10\n",
      "143/143 [==============================] - 1s 4ms/step - loss: 0.0112 - val_loss: 0.0033\n",
      "Epoch 4/10\n",
      "143/143 [==============================] - 1s 4ms/step - loss: 0.0076 - val_loss: 0.0020\n",
      "Epoch 5/10\n",
      "143/143 [==============================] - 0s 3ms/step - loss: 0.0059 - val_loss: 0.0012\n",
      "Epoch 6/10\n",
      "143/143 [==============================] - 0s 3ms/step - loss: 0.0047 - val_loss: 0.0012\n",
      "Epoch 7/10\n",
      "143/143 [==============================] - 0s 3ms/step - loss: 0.0043 - val_loss: 9.2577e-04\n",
      "Epoch 8/10\n",
      "143/143 [==============================] - 0s 3ms/step - loss: 0.0039 - val_loss: 9.7757e-04\n",
      "Epoch 9/10\n",
      "143/143 [==============================] - 0s 3ms/step - loss: 0.0036 - val_loss: 7.8369e-04\n",
      "Epoch 10/10\n",
      "143/143 [==============================] - 1s 3ms/step - loss: 0.0032 - val_loss: 7.0165e-04\n",
      "Train Mean Absolute Error: 0.4806274441915317\n",
      "Train Root Mean Squared Error: 0.5905208019817765\n",
      "-------------------------------36--------------------------\n",
      "Epoch 1/10\n",
      "143/143 [==============================] - 3s 7ms/step - loss: 0.0273 - val_loss: 0.0114\n",
      "Epoch 2/10\n",
      "143/143 [==============================] - 0s 3ms/step - loss: 0.0163 - val_loss: 0.0060\n",
      "Epoch 3/10\n",
      "143/143 [==============================] - 0s 3ms/step - loss: 0.0107 - val_loss: 0.0032\n",
      "Epoch 4/10\n",
      "143/143 [==============================] - 0s 3ms/step - loss: 0.0072 - val_loss: 0.0018\n",
      "Epoch 5/10\n",
      "143/143 [==============================] - 0s 3ms/step - loss: 0.0054 - val_loss: 0.0013\n",
      "Epoch 6/10\n",
      "143/143 [==============================] - 1s 3ms/step - loss: 0.0044 - val_loss: 9.3941e-04\n",
      "Epoch 7/10\n",
      "143/143 [==============================] - 0s 3ms/step - loss: 0.0037 - val_loss: 8.3110e-04\n",
      "Epoch 8/10\n",
      "143/143 [==============================] - 0s 3ms/step - loss: 0.0035 - val_loss: 7.0685e-04\n",
      "Epoch 9/10\n",
      "143/143 [==============================] - 0s 3ms/step - loss: 0.0033 - val_loss: 9.9204e-04\n",
      "Epoch 10/10\n",
      "143/143 [==============================] - 0s 3ms/step - loss: 0.0027 - val_loss: 8.7707e-04\n",
      "Train Mean Absolute Error: 0.4883858114367483\n",
      "Train Root Mean Squared Error: 0.5918309533354236\n",
      "-------------------------------37--------------------------\n"
     ]
    },
    {
     "name": "stdout",
     "output_type": "stream",
     "text": [
      "Epoch 1/10\n",
      "143/143 [==============================] - 4s 8ms/step - loss: 0.0203 - val_loss: 0.0105\n",
      "Epoch 2/10\n",
      "143/143 [==============================] - 1s 4ms/step - loss: 0.0145 - val_loss: 0.0056\n",
      "Epoch 3/10\n",
      "143/143 [==============================] - 0s 3ms/step - loss: 0.0095 - val_loss: 0.0033\n",
      "Epoch 4/10\n",
      "143/143 [==============================] - 0s 3ms/step - loss: 0.0067 - val_loss: 0.0022\n",
      "Epoch 5/10\n",
      "143/143 [==============================] - 0s 3ms/step - loss: 0.0051 - val_loss: 0.0015\n",
      "Epoch 6/10\n",
      "143/143 [==============================] - 0s 3ms/step - loss: 0.0045 - val_loss: 0.0011\n",
      "Epoch 7/10\n",
      "143/143 [==============================] - 0s 3ms/step - loss: 0.0040 - val_loss: 0.0014\n",
      "Epoch 8/10\n",
      "143/143 [==============================] - 0s 3ms/step - loss: 0.0036 - val_loss: 9.7034e-04\n",
      "Epoch 9/10\n",
      "143/143 [==============================] - 0s 3ms/step - loss: 0.0033 - val_loss: 9.9863e-04\n",
      "Epoch 10/10\n",
      "143/143 [==============================] - 0s 3ms/step - loss: 0.0031 - val_loss: 0.0010\n",
      "Train Mean Absolute Error: 0.5165052167001798\n",
      "Train Root Mean Squared Error: 0.6217790053721448\n",
      "-------------------------------38--------------------------\n",
      "Epoch 1/10\n",
      "143/143 [==============================] - 5s 8ms/step - loss: 0.0258 - val_loss: 0.0114\n",
      "Epoch 2/10\n",
      "143/143 [==============================] - 0s 3ms/step - loss: 0.0164 - val_loss: 0.0061\n",
      "Epoch 3/10\n",
      "143/143 [==============================] - 0s 3ms/step - loss: 0.0110 - val_loss: 0.0032\n",
      "Epoch 4/10\n",
      "143/143 [==============================] - 1s 5ms/step - loss: 0.0076 - val_loss: 0.0019\n",
      "Epoch 5/10\n",
      "143/143 [==============================] - 1s 4ms/step - loss: 0.0059 - val_loss: 0.0014\n",
      "Epoch 6/10\n",
      "143/143 [==============================] - 1s 3ms/step - loss: 0.0047 - val_loss: 9.3193e-04\n",
      "Epoch 7/10\n",
      "143/143 [==============================] - 1s 4ms/step - loss: 0.0043 - val_loss: 8.8829e-04\n",
      "Epoch 8/10\n",
      "143/143 [==============================] - 1s 5ms/step - loss: 0.0039 - val_loss: 8.9718e-04\n",
      "Epoch 9/10\n",
      "143/143 [==============================] - 1s 4ms/step - loss: 0.0035 - val_loss: 8.2375e-04\n",
      "Epoch 10/10\n",
      "143/143 [==============================] - 1s 5ms/step - loss: 0.0032 - val_loss: 7.0389e-04\n",
      "Train Mean Absolute Error: 0.4638507536747513\n",
      "Train Root Mean Squared Error: 0.5726201689250107\n",
      "-------------------------------39--------------------------\n",
      "Epoch 1/10\n",
      "143/143 [==============================] - 3s 8ms/step - loss: 0.0220 - val_loss: 0.0096\n",
      "Epoch 2/10\n",
      "143/143 [==============================] - 1s 4ms/step - loss: 0.0144 - val_loss: 0.0049\n",
      "Epoch 3/10\n",
      "143/143 [==============================] - 1s 4ms/step - loss: 0.0097 - val_loss: 0.0030\n",
      "Epoch 4/10\n",
      "143/143 [==============================] - 0s 3ms/step - loss: 0.0070 - val_loss: 0.0017\n",
      "Epoch 5/10\n",
      "143/143 [==============================] - 0s 3ms/step - loss: 0.0056 - val_loss: 0.0013\n",
      "Epoch 6/10\n",
      "143/143 [==============================] - 0s 3ms/step - loss: 0.0050 - val_loss: 8.5144e-04\n",
      "Epoch 7/10\n",
      "143/143 [==============================] - 0s 3ms/step - loss: 0.0039 - val_loss: 7.5427e-04\n",
      "Epoch 8/10\n",
      "143/143 [==============================] - 0s 3ms/step - loss: 0.0037 - val_loss: 9.0996e-04\n",
      "Epoch 9/10\n",
      "143/143 [==============================] - 0s 3ms/step - loss: 0.0032 - val_loss: 9.3003e-04\n",
      "Epoch 10/10\n",
      "143/143 [==============================] - 0s 3ms/step - loss: 0.0035 - val_loss: 7.0530e-04\n",
      "Train Mean Absolute Error: 0.4810210074528901\n",
      "Train Root Mean Squared Error: 0.5931443784532742\n",
      "-------------------------------30--------------------------\n",
      "Epoch 1/10\n",
      "143/143 [==============================] - 3s 7ms/step - loss: 0.0150 - val_loss: 0.0075\n",
      "Epoch 2/10\n",
      "143/143 [==============================] - 0s 3ms/step - loss: 0.0094 - val_loss: 0.0069\n",
      "Epoch 3/10\n",
      "143/143 [==============================] - 0s 3ms/step - loss: 0.0071 - val_loss: 0.0080\n",
      "Epoch 4/10\n",
      "143/143 [==============================] - 0s 3ms/step - loss: 0.0064 - val_loss: 0.0078\n",
      "Epoch 5/10\n",
      "143/143 [==============================] - 0s 3ms/step - loss: 0.0055 - val_loss: 0.0086\n",
      "Epoch 6/10\n",
      "143/143 [==============================] - 0s 3ms/step - loss: 0.0053 - val_loss: 0.0087\n",
      "Epoch 7/10\n",
      "143/143 [==============================] - 0s 3ms/step - loss: 0.0048 - val_loss: 0.0078\n",
      "Epoch 8/10\n",
      "143/143 [==============================] - 0s 3ms/step - loss: 0.0041 - val_loss: 0.0096\n",
      "Epoch 9/10\n",
      "143/143 [==============================] - 0s 3ms/step - loss: 0.0042 - val_loss: 0.0104\n",
      "Epoch 10/10\n",
      "143/143 [==============================] - 0s 3ms/step - loss: 0.0037 - val_loss: 0.0125\n",
      "Train Mean Absolute Error: 1.332793512731204\n",
      "Train Root Mean Squared Error: 1.6771721214720177\n",
      "-------------------------------31--------------------------\n",
      "Epoch 1/10\n",
      "143/143 [==============================] - 3s 7ms/step - loss: 0.0124 - val_loss: 0.0094\n",
      "Epoch 2/10\n",
      "143/143 [==============================] - 0s 3ms/step - loss: 0.0085 - val_loss: 0.0080\n",
      "Epoch 3/10\n",
      "143/143 [==============================] - 0s 3ms/step - loss: 0.0071 - val_loss: 0.0069\n",
      "Epoch 4/10\n",
      "143/143 [==============================] - 0s 3ms/step - loss: 0.0063 - val_loss: 0.0093\n",
      "Epoch 5/10\n",
      "143/143 [==============================] - 0s 3ms/step - loss: 0.0056 - val_loss: 0.0097\n",
      "Epoch 6/10\n",
      "143/143 [==============================] - 0s 3ms/step - loss: 0.0046 - val_loss: 0.0082\n",
      "Epoch 7/10\n",
      "143/143 [==============================] - 0s 3ms/step - loss: 0.0046 - val_loss: 0.0094\n",
      "Epoch 8/10\n",
      "143/143 [==============================] - 0s 3ms/step - loss: 0.0042 - val_loss: 0.0103\n",
      "Epoch 9/10\n",
      "143/143 [==============================] - 0s 3ms/step - loss: 0.0038 - val_loss: 0.0116\n",
      "Epoch 10/10\n",
      "143/143 [==============================] - 0s 3ms/step - loss: 0.0038 - val_loss: 0.0120\n",
      "Train Mean Absolute Error: 1.362790632839322\n",
      "Train Root Mean Squared Error: 1.7118637701198984\n",
      "-------------------------------32--------------------------\n",
      "Epoch 1/10\n",
      "143/143 [==============================] - 3s 7ms/step - loss: 0.0187 - val_loss: 0.0086\n",
      "Epoch 2/10\n",
      "143/143 [==============================] - 0s 3ms/step - loss: 0.0110 - val_loss: 0.0070\n",
      "Epoch 3/10\n",
      "143/143 [==============================] - 0s 3ms/step - loss: 0.0084 - val_loss: 0.0074\n",
      "Epoch 4/10\n",
      "143/143 [==============================] - 0s 3ms/step - loss: 0.0064 - val_loss: 0.0077\n",
      "Epoch 5/10\n",
      "143/143 [==============================] - 0s 3ms/step - loss: 0.0060 - val_loss: 0.0070\n",
      "Epoch 6/10\n",
      "143/143 [==============================] - 0s 3ms/step - loss: 0.0052 - val_loss: 0.0068\n",
      "Epoch 7/10\n",
      "143/143 [==============================] - 0s 3ms/step - loss: 0.0044 - val_loss: 0.0083\n",
      "Epoch 8/10\n",
      "143/143 [==============================] - 0s 3ms/step - loss: 0.0042 - val_loss: 0.0089\n",
      "Epoch 9/10\n",
      "143/143 [==============================] - 0s 3ms/step - loss: 0.0041 - val_loss: 0.0094\n",
      "Epoch 10/10\n",
      "143/143 [==============================] - 0s 3ms/step - loss: 0.0038 - val_loss: 0.0112\n",
      "Train Mean Absolute Error: 1.249994373759829\n",
      "Train Root Mean Squared Error: 1.619327295298719\n",
      "-------------------------------33--------------------------\n",
      "Epoch 1/10\n",
      "143/143 [==============================] - 3s 7ms/step - loss: 0.0228 - val_loss: 0.0083\n",
      "Epoch 2/10\n",
      "143/143 [==============================] - 0s 3ms/step - loss: 0.0115 - val_loss: 0.0071\n",
      "Epoch 3/10\n",
      "143/143 [==============================] - 0s 3ms/step - loss: 0.0088 - val_loss: 0.0067\n",
      "Epoch 4/10\n",
      "143/143 [==============================] - 0s 3ms/step - loss: 0.0072 - val_loss: 0.0055\n",
      "Epoch 5/10\n",
      "143/143 [==============================] - 0s 3ms/step - loss: 0.0058 - val_loss: 0.0068\n",
      "Epoch 6/10\n",
      "143/143 [==============================] - 0s 3ms/step - loss: 0.0047 - val_loss: 0.0064\n",
      "Epoch 7/10\n",
      "143/143 [==============================] - 0s 3ms/step - loss: 0.0046 - val_loss: 0.0061\n",
      "Epoch 8/10\n",
      "143/143 [==============================] - 0s 3ms/step - loss: 0.0039 - val_loss: 0.0081\n",
      "Epoch 9/10\n",
      "143/143 [==============================] - 0s 3ms/step - loss: 0.0040 - val_loss: 0.0096\n",
      "Epoch 10/10\n",
      "143/143 [==============================] - 1s 3ms/step - loss: 0.0038 - val_loss: 0.0093\n",
      "Train Mean Absolute Error: 1.237867247325271\n",
      "Train Root Mean Squared Error: 1.5157643440893558\n",
      "-------------------------------34--------------------------\n",
      "Epoch 1/10\n",
      "143/143 [==============================] - 3s 7ms/step - loss: 0.0145 - val_loss: 0.0096\n",
      "Epoch 2/10\n",
      "143/143 [==============================] - 0s 3ms/step - loss: 0.0094 - val_loss: 0.0077\n",
      "Epoch 3/10\n",
      "143/143 [==============================] - 0s 3ms/step - loss: 0.0079 - val_loss: 0.0076\n",
      "Epoch 4/10\n",
      "143/143 [==============================] - 0s 3ms/step - loss: 0.0063 - val_loss: 0.0079\n",
      "Epoch 5/10\n",
      "143/143 [==============================] - 0s 3ms/step - loss: 0.0059 - val_loss: 0.0088\n",
      "Epoch 6/10\n",
      "143/143 [==============================] - 0s 3ms/step - loss: 0.0050 - val_loss: 0.0095\n",
      "Epoch 7/10\n",
      "143/143 [==============================] - 0s 3ms/step - loss: 0.0047 - val_loss: 0.0117\n",
      "Epoch 8/10\n",
      "143/143 [==============================] - 0s 3ms/step - loss: 0.0043 - val_loss: 0.0111\n",
      "Epoch 9/10\n",
      "143/143 [==============================] - 0s 3ms/step - loss: 0.0044 - val_loss: 0.0137\n",
      "Epoch 10/10\n",
      "143/143 [==============================] - 0s 3ms/step - loss: 0.0043 - val_loss: 0.0156\n",
      "Train Mean Absolute Error: 1.5648007081026614\n",
      "Train Root Mean Squared Error: 1.9507089530678519\n",
      "-------------------------------35--------------------------\n",
      "Epoch 1/10\n",
      "143/143 [==============================] - 3s 7ms/step - loss: 0.0133 - val_loss: 0.0066\n",
      "Epoch 2/10\n",
      "143/143 [==============================] - 0s 3ms/step - loss: 0.0088 - val_loss: 0.0071\n",
      "Epoch 3/10\n",
      "143/143 [==============================] - 0s 3ms/step - loss: 0.0072 - val_loss: 0.0063\n",
      "Epoch 4/10\n",
      "143/143 [==============================] - 0s 3ms/step - loss: 0.0058 - val_loss: 0.0063\n",
      "Epoch 5/10\n",
      "143/143 [==============================] - 0s 3ms/step - loss: 0.0052 - val_loss: 0.0069\n",
      "Epoch 6/10\n",
      "143/143 [==============================] - 0s 3ms/step - loss: 0.0047 - val_loss: 0.0068\n",
      "Epoch 7/10\n",
      "143/143 [==============================] - 0s 3ms/step - loss: 0.0043 - val_loss: 0.0070\n",
      "Epoch 8/10\n",
      "143/143 [==============================] - 0s 3ms/step - loss: 0.0039 - val_loss: 0.0074\n",
      "Epoch 9/10\n",
      "143/143 [==============================] - 0s 3ms/step - loss: 0.0042 - val_loss: 0.0084\n",
      "Epoch 10/10\n",
      "143/143 [==============================] - 0s 3ms/step - loss: 0.0036 - val_loss: 0.0105\n",
      "Train Mean Absolute Error: 1.2850648710048587\n",
      "Train Root Mean Squared Error: 1.6324525403598693\n",
      "-------------------------------36--------------------------\n",
      "Epoch 1/10\n",
      "143/143 [==============================] - 3s 7ms/step - loss: 0.0134 - val_loss: 0.0086\n",
      "Epoch 2/10\n",
      "143/143 [==============================] - 0s 3ms/step - loss: 0.0088 - val_loss: 0.0083\n",
      "Epoch 3/10\n",
      "143/143 [==============================] - 0s 3ms/step - loss: 0.0075 - val_loss: 0.0091\n",
      "Epoch 4/10\n",
      "143/143 [==============================] - 0s 3ms/step - loss: 0.0063 - val_loss: 0.0079\n",
      "Epoch 5/10\n",
      "143/143 [==============================] - 0s 3ms/step - loss: 0.0054 - val_loss: 0.0102\n",
      "Epoch 6/10\n",
      "143/143 [==============================] - 0s 3ms/step - loss: 0.0047 - val_loss: 0.0099\n",
      "Epoch 7/10\n",
      "143/143 [==============================] - 0s 3ms/step - loss: 0.0043 - val_loss: 0.0109\n",
      "Epoch 8/10\n",
      "143/143 [==============================] - 0s 3ms/step - loss: 0.0040 - val_loss: 0.0112\n",
      "Epoch 9/10\n",
      "143/143 [==============================] - 0s 3ms/step - loss: 0.0040 - val_loss: 0.0122\n",
      "Epoch 10/10\n",
      "143/143 [==============================] - 0s 3ms/step - loss: 0.0039 - val_loss: 0.0131\n",
      "Train Mean Absolute Error: 1.4634158205770842\n",
      "Train Root Mean Squared Error: 1.8362289751606131\n",
      "-------------------------------37--------------------------\n",
      "Epoch 1/10\n",
      "143/143 [==============================] - 3s 7ms/step - loss: 0.0168 - val_loss: 0.0083\n",
      "Epoch 2/10\n",
      "143/143 [==============================] - 0s 3ms/step - loss: 0.0105 - val_loss: 0.0083\n",
      "Epoch 3/10\n",
      "143/143 [==============================] - 0s 3ms/step - loss: 0.0080 - val_loss: 0.0091\n",
      "Epoch 4/10\n",
      "143/143 [==============================] - 0s 3ms/step - loss: 0.0068 - val_loss: 0.0091\n",
      "Epoch 5/10\n",
      "143/143 [==============================] - 0s 3ms/step - loss: 0.0059 - val_loss: 0.0091\n",
      "Epoch 6/10\n",
      "143/143 [==============================] - 0s 3ms/step - loss: 0.0052 - val_loss: 0.0099\n",
      "Epoch 7/10\n",
      "143/143 [==============================] - 0s 3ms/step - loss: 0.0048 - val_loss: 0.0113\n",
      "Epoch 8/10\n",
      "143/143 [==============================] - 0s 3ms/step - loss: 0.0047 - val_loss: 0.0112\n",
      "Epoch 9/10\n",
      "143/143 [==============================] - 0s 3ms/step - loss: 0.0044 - val_loss: 0.0141\n",
      "Epoch 10/10\n",
      "143/143 [==============================] - 0s 3ms/step - loss: 0.0047 - val_loss: 0.0141\n",
      "Train Mean Absolute Error: 1.4971440987620324\n",
      "Train Root Mean Squared Error: 1.8564657811245204\n",
      "-------------------------------38--------------------------\n",
      "Epoch 1/10\n",
      "143/143 [==============================] - 3s 7ms/step - loss: 0.0167 - val_loss: 0.0081\n",
      "Epoch 2/10\n",
      "143/143 [==============================] - 0s 3ms/step - loss: 0.0093 - val_loss: 0.0066\n",
      "Epoch 3/10\n",
      "143/143 [==============================] - 0s 3ms/step - loss: 0.0075 - val_loss: 0.0058\n",
      "Epoch 4/10\n",
      "143/143 [==============================] - 0s 3ms/step - loss: 0.0061 - val_loss: 0.0068\n",
      "Epoch 5/10\n",
      "143/143 [==============================] - 0s 3ms/step - loss: 0.0053 - val_loss: 0.0068\n",
      "Epoch 6/10\n",
      "143/143 [==============================] - 0s 3ms/step - loss: 0.0050 - val_loss: 0.0079\n",
      "Epoch 7/10\n",
      "143/143 [==============================] - 0s 3ms/step - loss: 0.0043 - val_loss: 0.0079\n",
      "Epoch 8/10\n",
      "143/143 [==============================] - 0s 3ms/step - loss: 0.0043 - val_loss: 0.0093\n",
      "Epoch 9/10\n",
      "143/143 [==============================] - 0s 3ms/step - loss: 0.0040 - val_loss: 0.0104\n",
      "Epoch 10/10\n",
      "143/143 [==============================] - 1s 3ms/step - loss: 0.0039 - val_loss: 0.0109\n",
      "Train Mean Absolute Error: 1.2311405353826126\n",
      "Train Root Mean Squared Error: 1.5340208433843503\n",
      "-------------------------------39--------------------------\n",
      "Epoch 1/10\n",
      "143/143 [==============================] - 4s 7ms/step - loss: 0.0131 - val_loss: 0.0082\n",
      "Epoch 2/10\n",
      "143/143 [==============================] - 0s 3ms/step - loss: 0.0084 - val_loss: 0.0069\n",
      "Epoch 3/10\n",
      "143/143 [==============================] - 0s 3ms/step - loss: 0.0072 - val_loss: 0.0070\n",
      "Epoch 4/10\n",
      "143/143 [==============================] - 0s 3ms/step - loss: 0.0059 - val_loss: 0.0062\n",
      "Epoch 5/10\n",
      "143/143 [==============================] - 0s 3ms/step - loss: 0.0051 - val_loss: 0.0054\n",
      "Epoch 6/10\n",
      "143/143 [==============================] - 0s 3ms/step - loss: 0.0046 - val_loss: 0.0066\n",
      "Epoch 7/10\n",
      "143/143 [==============================] - 0s 3ms/step - loss: 0.0041 - val_loss: 0.0084\n",
      "Epoch 8/10\n",
      "143/143 [==============================] - 0s 3ms/step - loss: 0.0041 - val_loss: 0.0092\n",
      "Epoch 9/10\n",
      "143/143 [==============================] - 0s 3ms/step - loss: 0.0038 - val_loss: 0.0095\n",
      "Epoch 10/10\n",
      "143/143 [==============================] - 0s 3ms/step - loss: 0.0036 - val_loss: 0.0092\n",
      "Train Mean Absolute Error: 1.1828833036425903\n",
      "Train Root Mean Squared Error: 1.435332247025246\n",
      "-------------------------------30--------------------------\n",
      "Epoch 1/10\n",
      "141/141 [==============================] - 3s 6ms/step - loss: 0.0136 - val_loss: 0.0188\n",
      "Epoch 2/10\n",
      "141/141 [==============================] - 0s 3ms/step - loss: 0.0098 - val_loss: 0.0249\n",
      "Epoch 3/10\n",
      "141/141 [==============================] - 0s 3ms/step - loss: 0.0088 - val_loss: 0.0334\n",
      "Epoch 4/10\n",
      "141/141 [==============================] - 0s 3ms/step - loss: 0.0100 - val_loss: 0.0381\n",
      "Epoch 5/10\n",
      "141/141 [==============================] - 0s 3ms/step - loss: 0.0115 - val_loss: 0.0411\n",
      "Epoch 6/10\n",
      "141/141 [==============================] - 0s 3ms/step - loss: 0.0127 - val_loss: 0.0413\n",
      "Epoch 7/10\n",
      "141/141 [==============================] - 0s 3ms/step - loss: 0.0140 - val_loss: 0.0414\n",
      "Epoch 8/10\n",
      "141/141 [==============================] - 0s 3ms/step - loss: 0.0140 - val_loss: 0.0391\n",
      "Epoch 9/10\n",
      "141/141 [==============================] - 0s 3ms/step - loss: 0.0144 - val_loss: 0.0362\n",
      "Epoch 10/10\n",
      "141/141 [==============================] - 0s 3ms/step - loss: 0.0131 - val_loss: 0.0342\n",
      "Train Mean Absolute Error: 2.5110132452830167\n",
      "Train Root Mean Squared Error: 2.9355039926977198\n",
      "-------------------------------31--------------------------\n",
      "Epoch 1/10\n",
      "141/141 [==============================] - 3s 7ms/step - loss: 0.0120 - val_loss: 0.0216\n",
      "Epoch 2/10\n"
     ]
    },
    {
     "name": "stdout",
     "output_type": "stream",
     "text": [
      "141/141 [==============================] - 0s 3ms/step - loss: 0.0096 - val_loss: 0.0228\n",
      "Epoch 3/10\n",
      "141/141 [==============================] - 0s 3ms/step - loss: 0.0090 - val_loss: 0.0276\n",
      "Epoch 4/10\n",
      "141/141 [==============================] - 0s 4ms/step - loss: 0.0094 - val_loss: 0.0324\n",
      "Epoch 5/10\n",
      "141/141 [==============================] - 0s 3ms/step - loss: 0.0099 - val_loss: 0.0379\n",
      "Epoch 6/10\n",
      "141/141 [==============================] - 0s 3ms/step - loss: 0.0107 - val_loss: 0.0367\n",
      "Epoch 7/10\n",
      "141/141 [==============================] - 0s 3ms/step - loss: 0.0111 - val_loss: 0.0366\n",
      "Epoch 8/10\n",
      "141/141 [==============================] - 0s 3ms/step - loss: 0.0113 - val_loss: 0.0331\n",
      "Epoch 9/10\n",
      "141/141 [==============================] - 0s 3ms/step - loss: 0.0111 - val_loss: 0.0316\n",
      "Epoch 10/10\n",
      "141/141 [==============================] - 0s 3ms/step - loss: 0.0106 - val_loss: 0.0300\n",
      "Train Mean Absolute Error: 2.164141519571604\n",
      "Train Root Mean Squared Error: 2.5771396758916487\n",
      "-------------------------------32--------------------------\n",
      "Epoch 1/10\n",
      "141/141 [==============================] - 3s 6ms/step - loss: 0.0151 - val_loss: 0.0212\n",
      "Epoch 2/10\n",
      "141/141 [==============================] - 0s 3ms/step - loss: 0.0109 - val_loss: 0.0262\n",
      "Epoch 3/10\n",
      "141/141 [==============================] - 0s 3ms/step - loss: 0.0098 - val_loss: 0.0340\n",
      "Epoch 4/10\n",
      "141/141 [==============================] - 0s 3ms/step - loss: 0.0106 - val_loss: 0.0385\n",
      "Epoch 5/10\n",
      "141/141 [==============================] - 0s 3ms/step - loss: 0.0116 - val_loss: 0.0393\n",
      "Epoch 6/10\n",
      "141/141 [==============================] - 0s 3ms/step - loss: 0.0120 - val_loss: 0.0404\n",
      "Epoch 7/10\n",
      "141/141 [==============================] - 0s 3ms/step - loss: 0.0128 - val_loss: 0.0410\n",
      "Epoch 8/10\n",
      "141/141 [==============================] - 0s 3ms/step - loss: 0.0139 - val_loss: 0.0399\n",
      "Epoch 9/10\n",
      "141/141 [==============================] - 0s 3ms/step - loss: 0.0134 - val_loss: 0.0384\n",
      "Epoch 10/10\n",
      "141/141 [==============================] - 0s 3ms/step - loss: 0.0133 - val_loss: 0.0352\n",
      "Train Mean Absolute Error: 2.350692694284584\n",
      "Train Root Mean Squared Error: 2.789874931661909\n",
      "-------------------------------33--------------------------\n",
      "Epoch 1/10\n",
      "141/141 [==============================] - 3s 6ms/step - loss: 0.0179 - val_loss: 0.0220\n",
      "Epoch 2/10\n",
      "141/141 [==============================] - 0s 3ms/step - loss: 0.0120 - val_loss: 0.0263\n",
      "Epoch 3/10\n",
      "141/141 [==============================] - 0s 3ms/step - loss: 0.0110 - val_loss: 0.0323\n",
      "Epoch 4/10\n",
      "141/141 [==============================] - 0s 3ms/step - loss: 0.0105 - val_loss: 0.0364\n",
      "Epoch 5/10\n",
      "141/141 [==============================] - 0s 3ms/step - loss: 0.0118 - val_loss: 0.0395\n",
      "Epoch 6/10\n",
      "141/141 [==============================] - 0s 3ms/step - loss: 0.0110 - val_loss: 0.0411\n",
      "Epoch 7/10\n",
      "141/141 [==============================] - 0s 3ms/step - loss: 0.0126 - val_loss: 0.0421\n",
      "Epoch 8/10\n",
      "141/141 [==============================] - 0s 3ms/step - loss: 0.0133 - val_loss: 0.0403\n",
      "Epoch 9/10\n",
      "141/141 [==============================] - 0s 3ms/step - loss: 0.0131 - val_loss: 0.0365\n",
      "Epoch 10/10\n",
      "141/141 [==============================] - 0s 3ms/step - loss: 0.0125 - val_loss: 0.0352\n",
      "Train Mean Absolute Error: 2.3289493188019947\n",
      "Train Root Mean Squared Error: 2.7518470558194674\n",
      "-------------------------------34--------------------------\n",
      "Epoch 1/10\n",
      "141/141 [==============================] - 3s 9ms/step - loss: 0.0128 - val_loss: 0.0198\n",
      "Epoch 2/10\n",
      "141/141 [==============================] - 0s 3ms/step - loss: 0.0095 - val_loss: 0.0228\n",
      "Epoch 3/10\n",
      "141/141 [==============================] - 0s 3ms/step - loss: 0.0097 - val_loss: 0.0316\n",
      "Epoch 4/10\n",
      "141/141 [==============================] - 0s 3ms/step - loss: 0.0095 - val_loss: 0.0353\n",
      "Epoch 5/10\n",
      "141/141 [==============================] - 0s 3ms/step - loss: 0.0105 - val_loss: 0.0409\n",
      "Epoch 6/10\n",
      "141/141 [==============================] - 0s 3ms/step - loss: 0.0113 - val_loss: 0.0402\n",
      "Epoch 7/10\n",
      "141/141 [==============================] - 1s 4ms/step - loss: 0.0124 - val_loss: 0.0405\n",
      "Epoch 8/10\n",
      "141/141 [==============================] - 0s 3ms/step - loss: 0.0133 - val_loss: 0.0402\n",
      "Epoch 9/10\n",
      "141/141 [==============================] - 0s 3ms/step - loss: 0.0131 - val_loss: 0.0376\n",
      "Epoch 10/10\n",
      "141/141 [==============================] - 1s 4ms/step - loss: 0.0127 - val_loss: 0.0349\n",
      "Train Mean Absolute Error: 2.4718572484514394\n",
      "Train Root Mean Squared Error: 2.880907047907143\n",
      "-------------------------------35--------------------------\n",
      "Epoch 1/10\n",
      "141/141 [==============================] - 3s 7ms/step - loss: 0.0161 - val_loss: 0.0228\n",
      "Epoch 2/10\n",
      "141/141 [==============================] - 0s 3ms/step - loss: 0.0122 - val_loss: 0.0299\n",
      "Epoch 3/10\n",
      "141/141 [==============================] - 0s 3ms/step - loss: 0.0115 - val_loss: 0.0299\n",
      "Epoch 4/10\n",
      "141/141 [==============================] - 0s 3ms/step - loss: 0.0122 - val_loss: 0.0321\n",
      "Epoch 5/10\n",
      "141/141 [==============================] - 1s 4ms/step - loss: 0.0116 - val_loss: 0.0344\n",
      "Epoch 6/10\n",
      "141/141 [==============================] - 0s 3ms/step - loss: 0.0117 - val_loss: 0.0336\n",
      "Epoch 7/10\n",
      "141/141 [==============================] - 0s 3ms/step - loss: 0.0115 - val_loss: 0.0351\n",
      "Epoch 8/10\n",
      "141/141 [==============================] - 1s 4ms/step - loss: 0.0113 - val_loss: 0.0320\n",
      "Epoch 9/10\n",
      "141/141 [==============================] - 1s 4ms/step - loss: 0.0112 - val_loss: 0.0301\n",
      "Epoch 10/10\n",
      "141/141 [==============================] - 0s 3ms/step - loss: 0.0103 - val_loss: 0.0307\n",
      "Train Mean Absolute Error: 2.2185047964894373\n",
      "Train Root Mean Squared Error: 2.6450224750279325\n",
      "-------------------------------36--------------------------\n",
      "Epoch 1/10\n",
      "141/141 [==============================] - 3s 7ms/step - loss: 0.0145 - val_loss: 0.0202\n",
      "Epoch 2/10\n",
      "141/141 [==============================] - 0s 3ms/step - loss: 0.0095 - val_loss: 0.0266\n",
      "Epoch 3/10\n",
      "141/141 [==============================] - 0s 3ms/step - loss: 0.0100 - val_loss: 0.0311\n",
      "Epoch 4/10\n",
      "141/141 [==============================] - 0s 3ms/step - loss: 0.0103 - val_loss: 0.0341\n",
      "Epoch 5/10\n",
      "141/141 [==============================] - 0s 3ms/step - loss: 0.0105 - val_loss: 0.0368\n",
      "Epoch 6/10\n",
      "141/141 [==============================] - 0s 3ms/step - loss: 0.0107 - val_loss: 0.0383\n",
      "Epoch 7/10\n",
      "141/141 [==============================] - 0s 3ms/step - loss: 0.0116 - val_loss: 0.0393\n",
      "Epoch 8/10\n",
      "141/141 [==============================] - 1s 4ms/step - loss: 0.0119 - val_loss: 0.0375\n",
      "Epoch 9/10\n",
      "141/141 [==============================] - 0s 3ms/step - loss: 0.0117 - val_loss: 0.0355\n",
      "Epoch 10/10\n",
      "141/141 [==============================] - 0s 3ms/step - loss: 0.0122 - val_loss: 0.0345\n",
      "Train Mean Absolute Error: 2.3642491934606302\n",
      "Train Root Mean Squared Error: 2.7879828818106267\n",
      "-------------------------------37--------------------------\n",
      "Epoch 1/10\n",
      "141/141 [==============================] - 4s 10ms/step - loss: 0.0134 - val_loss: 0.0117\n",
      "Epoch 2/10\n",
      "141/141 [==============================] - 0s 3ms/step - loss: 0.0088 - val_loss: 0.0167\n",
      "Epoch 3/10\n",
      "141/141 [==============================] - 0s 3ms/step - loss: 0.0080 - val_loss: 0.0215\n",
      "Epoch 4/10\n",
      "141/141 [==============================] - 0s 3ms/step - loss: 0.0079 - val_loss: 0.0286\n",
      "Epoch 5/10\n",
      "141/141 [==============================] - 1s 4ms/step - loss: 0.0086 - val_loss: 0.0355\n",
      "Epoch 6/10\n",
      "141/141 [==============================] - 1s 4ms/step - loss: 0.0090 - val_loss: 0.0392\n",
      "Epoch 7/10\n",
      "141/141 [==============================] - 0s 3ms/step - loss: 0.0106 - val_loss: 0.0407\n",
      "Epoch 8/10\n",
      "141/141 [==============================] - 0s 3ms/step - loss: 0.0107 - val_loss: 0.0422\n",
      "Epoch 9/10\n",
      "141/141 [==============================] - 0s 3ms/step - loss: 0.0120 - val_loss: 0.0414\n",
      "Epoch 10/10\n",
      "141/141 [==============================] - 0s 3ms/step - loss: 0.0133 - val_loss: 0.0405\n",
      "Train Mean Absolute Error: 2.719619172246502\n",
      "Train Root Mean Squared Error: 3.157268167557547\n",
      "-------------------------------38--------------------------\n",
      "Epoch 1/10\n",
      "141/141 [==============================] - 3s 7ms/step - loss: 0.0143 - val_loss: 0.0208\n",
      "Epoch 2/10\n",
      "141/141 [==============================] - 0s 3ms/step - loss: 0.0103 - val_loss: 0.0244\n",
      "Epoch 3/10\n"
     ]
    },
    {
     "name": "stdout",
     "output_type": "stream",
     "text": [
      "141/141 [==============================] - 0s 3ms/step - loss: 0.0104 - val_loss: 0.0319\n",
      "Epoch 4/10\n",
      "141/141 [==============================] - 0s 3ms/step - loss: 0.0107 - val_loss: 0.0377\n",
      "Epoch 5/10\n",
      "141/141 [==============================] - 0s 3ms/step - loss: 0.0121 - val_loss: 0.0420\n",
      "Epoch 6/10\n",
      "141/141 [==============================] - 0s 3ms/step - loss: 0.0115 - val_loss: 0.0437\n",
      "Epoch 7/10\n",
      "141/141 [==============================] - 0s 3ms/step - loss: 0.0133 - val_loss: 0.0418\n",
      "Epoch 8/10\n",
      "141/141 [==============================] - 0s 3ms/step - loss: 0.0138 - val_loss: 0.0401\n",
      "Epoch 9/10\n",
      "141/141 [==============================] - 0s 3ms/step - loss: 0.0125 - val_loss: 0.0394\n",
      "Epoch 10/10\n",
      "141/141 [==============================] - 0s 3ms/step - loss: 0.0131 - val_loss: 0.0366\n",
      "Train Mean Absolute Error: 2.345545913390283\n",
      "Train Root Mean Squared Error: 2.7883635103375064\n",
      "-------------------------------39--------------------------\n",
      "Epoch 1/10\n",
      "141/141 [==============================] - 3s 7ms/step - loss: 0.0169 - val_loss: 0.0199\n",
      "Epoch 2/10\n",
      "141/141 [==============================] - 0s 3ms/step - loss: 0.0101 - val_loss: 0.0187\n",
      "Epoch 3/10\n",
      "141/141 [==============================] - 0s 3ms/step - loss: 0.0093 - val_loss: 0.0237\n",
      "Epoch 4/10\n",
      "141/141 [==============================] - 0s 3ms/step - loss: 0.0095 - val_loss: 0.0307\n",
      "Epoch 5/10\n",
      "141/141 [==============================] - 0s 3ms/step - loss: 0.0095 - val_loss: 0.0339\n",
      "Epoch 6/10\n",
      "141/141 [==============================] - 0s 3ms/step - loss: 0.0099 - val_loss: 0.0401\n",
      "Epoch 7/10\n",
      "141/141 [==============================] - 0s 3ms/step - loss: 0.0107 - val_loss: 0.0415\n",
      "Epoch 8/10\n",
      "141/141 [==============================] - 0s 3ms/step - loss: 0.0109 - val_loss: 0.0427\n",
      "Epoch 9/10\n",
      "141/141 [==============================] - 0s 3ms/step - loss: 0.0128 - val_loss: 0.0410\n",
      "Epoch 10/10\n",
      "141/141 [==============================] - 0s 3ms/step - loss: 0.0125 - val_loss: 0.0390\n",
      "Train Mean Absolute Error: 2.7060938113290014\n",
      "Train Root Mean Squared Error: 3.1670671614297308\n"
     ]
    }
   ],
   "source": [
    "# wielkosc batchu [10, 20, 50]\n",
    "batch_start, batch_end = 30, 40 # od do\n",
    "look_backs = [3,10,30] # takie look backi sprawdzamy i potem do nich mozemy wykresy zrobic\n",
    "\n",
    "\n",
    "error_look_back = {}\n",
    "for look_back in look_backs:\n",
    "  MAEs = []\n",
    "  MSEs = []\n",
    "  Y_trains = []\n",
    "  train_predicts = []\n",
    "\n",
    "  X_train, Y_train = create_dataset_lstm(train, look_back)\n",
    "  X_test, Y_test = create_dataset_lstm(test, look_back)\n",
    "  X_train = np.reshape(X_train, (X_train.shape[0], 1, X_train.shape[1]))\n",
    "  X_test = np.reshape(X_test, (X_test.shape[0], 1, X_test.shape[1]))\n",
    "  for batch in range(batch_start, batch_end):\n",
    "    print(f'-------------------------------{batch}--------------------------')\n",
    "    history = lstm_model(X_train, Y_train, X_test, Y_test, batch_size=batch)\n",
    "    tmp_Y_train, tmp_train_predict, MAE, MSE  = evaluation_model(history,X_train, X_test, Y_train, testing=True)\n",
    "    \n",
    "    MAEs.append(MAE)\n",
    "    MSEs.append(MSE)\n",
    "    Y_trains.append(tmp_Y_train)\n",
    "    train_predicts.append(tmp_train_predict)\n",
    "  error_look_back[look_back] = {\"MAE\":MAEs, \"MSE\":MSEs, \"Y_trains\": Y_trains, \"train_predicts\": train_predicts}\n",
    "\n"
   ]
  },
  {
   "cell_type": "markdown",
   "metadata": {},
   "source": [
    "#### Wraz ze wzrostem batch'a, pogorszaja sie na wyniki - MAE i MSE idealnie powinny rownac sie zero, wiec generalnie im mniejsze ich wartosci, tym model uwazamy za lepszy"
   ]
  },
  {
   "cell_type": "code",
   "execution_count": 60,
   "metadata": {
    "colab": {
     "base_uri": "https://localhost:8080/"
    },
    "id": "nNeu-weeMnsY",
    "outputId": "ea51694e-87b0-405c-b663-c25a18f6436c"
   },
   "outputs": [
    {
     "data": {
      "text/plain": [
       "(1401, 8)"
      ]
     },
     "execution_count": 60,
     "metadata": {},
     "output_type": "execute_result"
    }
   ],
   "source": [
    "# wyświetlenie liczby kolumn i wierszy; 2849:1346= 2,1 , a więc 20% (a wcześniej ratio 0.8), więc tak przyjął; model treningowy z predykcją (czerwona linia na wykresie)\n",
    "train_predict.shape"
   ]
  },
  {
   "cell_type": "code",
   "execution_count": 61,
   "metadata": {},
   "outputs": [
    {
     "data": {
      "text/plain": [
       "[0.5508739863750565,\n",
       " 0.5789791591576672,\n",
       " 0.6556969984784794,\n",
       " 0.6697693741329788,\n",
       " 0.6086126938696281,\n",
       " 0.5905208019817765,\n",
       " 0.5918309533354236,\n",
       " 0.6217790053721448,\n",
       " 0.5726201689250107,\n",
       " 0.5931443784532742]"
      ]
     },
     "execution_count": 61,
     "metadata": {},
     "output_type": "execute_result"
    }
   ],
   "source": [
    "error_look_back[3][\"MSE\"]"
   ]
  },
  {
   "cell_type": "code",
   "execution_count": 62,
   "metadata": {},
   "outputs": [
    {
     "data": {
      "text/plain": [
       "[0.44908764334554174,\n",
       " 0.47127798271670496,\n",
       " 0.5485151319185436,\n",
       " 0.563784366051788,\n",
       " 0.5035234221146697,\n",
       " 0.4806274441915317,\n",
       " 0.4883858114367483,\n",
       " 0.5165052167001798,\n",
       " 0.4638507536747513,\n",
       " 0.4810210074528901]"
      ]
     },
     "execution_count": 62,
     "metadata": {},
     "output_type": "execute_result"
    }
   ],
   "source": [
    "error_look_back[3][\"MAE\"]"
   ]
  },
  {
   "cell_type": "code",
   "execution_count": 63,
   "metadata": {
    "colab": {
     "base_uri": "https://localhost:8080/"
    },
    "id": "QVFzpdz8NCvZ",
    "outputId": "0aa11263-a0ac-442a-a05e-328bd45d4164"
   },
   "outputs": [
    {
     "name": "stdout",
     "output_type": "stream",
     "text": [
      "[2.5771396758916487, 2.6450224750279325, 2.7518470558194674, 2.7879828818106267, 2.7883635103375064, 2.789874931661909, 2.880907047907143, 2.9355039926977198, 3.157268167557547, 3.1670671614297308]\n"
     ]
    }
   ],
   "source": [
    "# wyświetlenie i posortowanie MSE\n",
    "MSEs.sort()\n",
    "print(MSEs)"
   ]
  },
  {
   "cell_type": "code",
   "execution_count": 64,
   "metadata": {
    "colab": {
     "base_uri": "https://localhost:8080/",
     "height": 282
    },
    "id": "IDLSfMoeSYIJ",
    "outputId": "aa9a1c45-fdc7-4ecf-8da5-9b9e3ea686f0"
   },
   "outputs": [
    {
     "data": {
      "text/plain": [
       "<AxesSubplot:>"
      ]
     },
     "execution_count": 64,
     "metadata": {},
     "output_type": "execute_result"
    },
    {
     "data": {
      "image/png": "[encoded data removed]",
      "text/plain": [
       "<Figure size 432x288 with 1 Axes>"
      ]
     },
     "metadata": {
      "needs_background": "light"
     },
     "output_type": "display_data"
    }
   ],
   "source": [
    "# wykres kreśli linię MSE, oraz MAE\n",
    "look_back_to_check = 3 \n",
    "sns.lineplot(x=[a for a in range(batch_start, batch_end)], y=error_look_back[look_back_to_check][\"MSE\"])\n",
    "sns.lineplot(x=[a for a in range(batch_start, batch_end)], y=error_look_back[look_back_to_check][\"MAE\"])\n"
   ]
  },
  {
   "cell_type": "code",
   "execution_count": 65,
   "metadata": {
    "colab": {
     "base_uri": "https://localhost:8080/",
     "height": 331
    },
    "id": "FKkdbS5adpp3",
    "outputId": "5655fbf0-6246-42fb-9256-5c700bcdae0b"
   },
   "outputs": [
    {
     "data": {
      "image/png": "[encoded data removed]",
      "text/plain": [
       "<Figure size 576x288 with 1 Axes>"
      ]
     },
     "metadata": {
      "needs_background": "light"
     },
     "output_type": "display_data"
    }
   ],
   "source": [
    "batch_index = 9 # to znaczy batch_start (bedzie tyle indexow ile jest od batch_start do batch_end)\n",
    "look_back_to_check = 3 #jak to wyrzucimy, to tez bedzie dzialac\n",
    "visualization(Y_train = error_look_back[look_back_to_check][\"Y_trains\"][batch_index], train_predict = error_look_back[look_back_to_check][\"train_predicts\"][batch_index])"
   ]
  },
  {
   "cell_type": "code",
   "execution_count": 66,
   "metadata": {
    "colab": {
     "base_uri": "https://localhost:8080/"
    },
    "id": "fC3jQGyaeOHF",
    "outputId": "a54537d7-a14f-4a06-e1b9-44ae407596c6"
   },
   "outputs": [
    {
     "data": {
      "text/plain": [
       "array([[16.4349994 , 16.52699993, 16.19499964, ..., 23.01299928,\n",
       "        23.14300072, 23.13499947]])"
      ]
     },
     "execution_count": 66,
     "metadata": {},
     "output_type": "execute_result"
    }
   ],
   "source": [
    "error_look_back[3][\"Y_trains\"][0]"
   ]
  },
  {
   "cell_type": "code",
   "execution_count": null,
   "metadata": {},
   "outputs": [],
   "source": []
  }
 ],
 "metadata": {
  "colab": {
   "collapsed_sections": [],
   "name": "Copy of testowanie_modelu_agata.ipynb",
   "provenance": [],
   "toc_visible": true
  },
  "kernelspec": {
   "display_name": "Python 3 (ipykernel)",
   "language": "python",
   "name": "python3"
  },
  "language_info": {
   "codemirror_mode": {
    "name": "ipython",
    "version": 3
   },
   "file_extension": ".py",
   "mimetype": "text/x-python",
   "name": "python",
   "nbconvert_exporter": "python",
   "pygments_lexer": "ipython3",
   "version": "3.10.2"
  }
 },
 "nbformat": 4,
 "nbformat_minor": 1
}
